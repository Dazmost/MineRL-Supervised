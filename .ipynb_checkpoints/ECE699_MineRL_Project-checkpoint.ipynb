{
 "cells": [
  {
   "cell_type": "code",
   "execution_count": 10,
   "id": "aa29d928",
   "metadata": {},
   "outputs": [],
   "source": [
    "import argparse\n",
    "import random\n",
    "import tensorflow as tf\n",
    "import os\n",
    "import minerl\n",
    "import tree_trajectory\n",
    "import network\n",
    "import numpy as np\n",
    "from tensorflow.keras import datasets, layers, models"
   ]
  },
  {
   "cell_type": "code",
   "execution_count": 11,
   "id": "50065886",
   "metadata": {},
   "outputs": [],
   "source": [
    "#paths\n",
    "workspace_path= 'C:/Users/Halim/Downloads/minecraftRL/minecraft_bot_dev-master'\n",
    "data_path='C:/Users/Halim/Downloads/minecraftRL/MineRLenv'\n",
    "env_name = 'MineRLTreechop'\n",
    "gpu_use = True\n",
    "pretrained_model = None\n",
    "tree_data = minerl.data.make('MineRLTreechop-v0', data_dir=data_path)"
   ]
  },
  {
   "cell_type": "code",
   "execution_count": 12,
   "id": "d9ec465e",
   "metadata": {},
   "outputs": [],
   "source": [
    "#if gpu exists\n",
    "if gpu_use == True:\n",
    "    gpus = tf.config.experimental.list_physical_devices('GPU')\n",
    "    tf.config.experimental.set_virtual_device_configuration(gpus[0],\n",
    "                [tf.config.experimental.VirtualDeviceConfiguration(memory_limit=4000)])\n",
    "else:\n",
    "    os.environ['CUDA_VISIBLE_DEVICES'] = '-1'\n",
    "\n",
    "#location for model summary\n",
    "writer = tf.summary.create_file_writer(workspace_path + \"/tree_tensorboard\")"
   ]
  },
  {
   "cell_type": "code",
   "execution_count": 13,
   "id": "6402d124",
   "metadata": {},
   "outputs": [],
   "source": [
    "class TreeTrajectoryDataset(tf.data.Dataset):\n",
    "    def _generator(num_trajectorys):\n",
    "        while True:\n",
    "            trajectory_names = tree_data.get_trajectory_names()\n",
    "            #print(\"len(trajectory_names): \", len(trajectory_names))\n",
    "                \n",
    "            #https://minerl.io/docs/api/data.html\n",
    "            trajectory_name = random.choice(trajectory_names)\n",
    "            print(\"trajectory_name: \", trajectory_name)\n",
    "                \n",
    "            trajectory = tree_data.load_data(trajectory_name, skip_interval=0, include_metadata=False)\n",
    "            #print(\"trajectory: \", trajectory)\n",
    "                \n",
    "            noop_action_num = 0\n",
    "                \n",
    "            all_actions = []\n",
    "            all_obs = []\n",
    "            for dataset_observation, dataset_action, reward, next_state, done in trajectory:  \n",
    "                #print(\"reward: \", reward)\n",
    "                    \n",
    "                #state_pov = dataset_observation['pov']\n",
    "                #observation = np.concatenate((dataset_observation['pov'] / 255.0, inventory_channel), axis=2)\n",
    "                # OrderedDict([('pov', array([[[ 0,  0,  0],\n",
    "                #         [ 0,  0,  2],\n",
    "                #         [ 0,  2,  0],\n",
    "                #         ...,\n",
    "                #         [30, 57, 16],\n",
    "                #         [ 0,  2,  0],\n",
    "                #         [ 0,  2,  0]]], dtype=uint8))])\n",
    "                observation = dataset_observation['pov'] / 255.0\n",
    "\n",
    "                #OrderedDict([('attack', 1), ('back', 0), ('camera', array([0., 0.], dtype=float32)), ('forward', 0), ('jump', 0), ('left', 0), ('right', 0), ('sneak', 0), ('sprint', 0)])\n",
    "                act_cam_0 = dataset_action['camera'][0]\n",
    "                act_cam_1 = dataset_action['camera'][1]\n",
    "                act_attack = dataset_action['attack'] #1\n",
    "                act_forward = dataset_action['forward'] #2\n",
    "                act_jump = dataset_action['jump'] #3\n",
    "                act_back = dataset_action['back'] #4\n",
    "                act_left = dataset_action['left'] #5\n",
    "                act_right = dataset_action['right'] #6\n",
    "                act_sneak = dataset_action['sneak'] #7\n",
    "\n",
    "                if (abs(act_cam_0 > 0) or abs(act_cam_1 > 0)): #if there was a change in camera at all\n",
    "                    if ( (act_cam_1 < 0) & ( abs(act_cam_0) < abs(act_cam_1) ) ): #left (negative) camera turn\n",
    "                        if (act_forward == 1):\n",
    "                            if (act_attack == 1):\n",
    "                                act_index = 0\n",
    "                            elif (act_jump == 1):\n",
    "                                act_index = 1\n",
    "                            elif (act_sneak == 1):\n",
    "                                act_index = 2\n",
    "                            else:\n",
    "                                act_index = 3\n",
    "\n",
    "                        elif (act_back == 1):\n",
    "                            if (act_attack == 1):\n",
    "                                act_index = 4\n",
    "                            elif (act_jump == 1):\n",
    "                                act_index = 5\n",
    "                            elif (act_sneak == 1):\n",
    "                                act_index = 6\n",
    "                            else:\n",
    "                                act_index = 7\n",
    "\n",
    "                        elif (act_right == 1):\n",
    "                            if (act_attack == 1):\n",
    "                                act_index = 8\n",
    "                            elif (act_jump == 1):\n",
    "                                act_index = 9\n",
    "                            elif (act_sneak == 1):\n",
    "                                act_index = 10\n",
    "                            else:\n",
    "                                act_index = 11\n",
    "\n",
    "                        elif (act_left == 1):\n",
    "                            if (act_attack == 1):\n",
    "                                act_index = 12\n",
    "                            elif (act_jump == 1):\n",
    "                                act_index = 13\n",
    "                            elif (act_sneak == 1):\n",
    "                                act_index = 14\n",
    "                            else:\n",
    "                                act_index = 15\n",
    "\n",
    "                        elif (act_sneak == 1):\n",
    "                            if (act_attack == 1):\n",
    "                                act_index = 16\n",
    "                            elif (act_jump == 1):\n",
    "                                act_index = 17\n",
    "                            elif (act_sneak == 1):\n",
    "                                act_index = 18\n",
    "                            else:\n",
    "                                act_index = 19\n",
    "\n",
    "                        elif (act_attack == 1):\n",
    "                            act_index = 20\n",
    "\n",
    "                        elif (act_jump == 1):\n",
    "                            act_index = 21\n",
    "\n",
    "                        else:\n",
    "                            act_index = 22\n",
    "\n",
    "\n",
    "                    elif ( (act_cam_1 > 0) & ( abs(act_cam_0) < abs(act_cam_1) ) ): #right (positive) camera turn\n",
    "\n",
    "                        if (act_forward == 1):\n",
    "                            if (act_attack == 1):\n",
    "                                act_index = 23\n",
    "                            elif (act_jump == 1):\n",
    "                                act_index = 24\n",
    "                            elif (act_sneak == 1):\n",
    "                                act_index = 25\n",
    "                            else:\n",
    "                                act_index = 26\n",
    "\n",
    "                        elif (act_back == 1):\n",
    "                            if (act_attack == 1):\n",
    "                                act_index = 27\n",
    "                            elif (act_jump == 1):\n",
    "                                act_index = 28\n",
    "                            elif (act_sneak == 1):\n",
    "                                act_index = 29\n",
    "                            else:\n",
    "                                act_index = 30\n",
    "\n",
    "                        elif (act_right == 1):\n",
    "                            if (act_attack == 1):\n",
    "                                act_index = 31\n",
    "                            elif (act_jump == 1):\n",
    "                                act_index = 32\n",
    "                            elif (act_sneak == 1):\n",
    "                                act_index = 33\n",
    "                            else:\n",
    "                                act_index = 34\n",
    "\n",
    "                        elif (act_left == 1):\n",
    "                            if (act_attack == 1):\n",
    "                                act_index = 35\n",
    "                            elif (act_jump == 1):\n",
    "                                act_index = 36\n",
    "                            elif (act_sneak == 1):\n",
    "                                act_index = 37\n",
    "                            else:\n",
    "                                act_index = 38\n",
    "\n",
    "                        elif (act_sneak == 1):\n",
    "                            if (act_attack == 1):\n",
    "                                act_index = 39\n",
    "                            elif (act_jump == 1):\n",
    "                                act_index = 40\n",
    "                            elif (act_sneak == 1):\n",
    "                                act_index = 41\n",
    "                            else:\n",
    "                                act_index = 42\n",
    "\n",
    "                        elif (act_attack == 1):\n",
    "                            act_index = 43\n",
    "\n",
    "                        elif (act_jump == 1):\n",
    "                            act_index = 44\n",
    "\n",
    "                        else:\n",
    "                            act_index = 45\n",
    "\n",
    "                    elif ( (act_cam_0 < 0) & ( abs(act_cam_0) > abs(act_cam_1) ) ): #down (negative) camera turn\n",
    "                        if (act_forward == 1):\n",
    "                            if (act_attack == 1):\n",
    "                                act_index = 46\n",
    "                            elif (act_jump == 1):\n",
    "                                act_index = 47\n",
    "                            elif (act_sneak == 1):\n",
    "                                act_index = 48\n",
    "                            else:\n",
    "                                act_index = 49\n",
    "\n",
    "                        elif (act_back == 1):\n",
    "                            if (act_attack == 1):\n",
    "                                act_index = 50\n",
    "                            elif (act_jump == 1):\n",
    "                                act_index = 51\n",
    "                            elif (act_sneak == 1):\n",
    "                                act_index = 52\n",
    "                            else:\n",
    "                                act_index = 53\n",
    "\n",
    "                        elif (act_right == 1):\n",
    "                            if (act_attack == 1):\n",
    "                                act_index = 54\n",
    "                            elif (act_jump == 1):\n",
    "                                act_index = 55\n",
    "                            elif (act_sneak == 1):\n",
    "                                act_index = 56\n",
    "                            else:\n",
    "                                act_index = 57\n",
    "\n",
    "                        elif (act_left == 1):\n",
    "                            if (act_attack == 1):\n",
    "                                act_index = 58\n",
    "                            elif (act_jump == 1):\n",
    "                                act_index = 59\n",
    "                            elif (act_sneak == 1):\n",
    "                                act_index = 60\n",
    "                            else:\n",
    "                                act_index = 61\n",
    "\n",
    "                        elif (act_sneak == 1):\n",
    "                            if (act_attack == 1):\n",
    "                                act_index = 62\n",
    "                            elif (act_jump == 1):\n",
    "                                act_index = 63\n",
    "                            elif (act_sneak == 1):\n",
    "                                act_index = 64\n",
    "                            else:\n",
    "                                act_index = 65\n",
    "\n",
    "                        elif (act_attack == 1):\n",
    "                            act_index = 66\n",
    "\n",
    "                        elif (act_jump == 1): #add attack here? for jump-attack?\n",
    "                            act_index = 67\n",
    "\n",
    "                        else:\n",
    "                            act_index = 68\n",
    "\n",
    "                    elif ( (act_cam_0 > 0) & ( abs(act_cam_0) > abs(act_cam_1) ) ): #up (positive) camera turn\n",
    "                        if (act_forward == 1):\n",
    "                            if (act_attack == 1):\n",
    "                                act_index = 69\n",
    "                            elif (act_jump == 1):\n",
    "                                act_index = 70\n",
    "                            elif (act_sneak == 1):\n",
    "                                act_index = 71\n",
    "                            else:\n",
    "                                act_index = 72\n",
    "\n",
    "                        elif (act_back == 1):\n",
    "                            if (act_attack == 1):\n",
    "                                act_index = 73\n",
    "                            elif (act_jump == 1):\n",
    "                                act_index = 74\n",
    "                            elif (act_sneak == 1):\n",
    "                                act_index = 75\n",
    "                            else:\n",
    "                                act_index = 76\n",
    "\n",
    "                        elif (act_right == 1):\n",
    "                            if (act_attack == 1):\n",
    "                                act_index = 77\n",
    "                            elif (act_jump == 1):\n",
    "                                act_index = 78\n",
    "                            elif (act_sneak == 1):\n",
    "                                act_index = 79\n",
    "                            else:\n",
    "                                act_index = 80\n",
    "\n",
    "                        elif (act_left == 1):\n",
    "                            if (act_attack == 1):\n",
    "                                act_index = 81\n",
    "                            elif (act_jump == 1):\n",
    "                                act_index = 82\n",
    "                            elif (act_sneak == 1):\n",
    "                                act_index = 83\n",
    "                            else:\n",
    "                                act_index = 84\n",
    "\n",
    "                        elif (act_sneak == 1):\n",
    "                            if (act_attack == 1):\n",
    "                                act_index = 85\n",
    "                            elif (act_jump == 1):\n",
    "                                act_index = 86\n",
    "                            elif (act_sneak == 1):\n",
    "                                act_index = 87\n",
    "                            else:\n",
    "                                act_index = 88\n",
    "\n",
    "                        elif (act_attack == 1):\n",
    "                            act_index = 89\n",
    "\n",
    "                        elif (act_jump == 1):\n",
    "                            act_index = 90\n",
    "\n",
    "                        else:\n",
    "                            act_index = 91\n",
    "\n",
    "\n",
    "                else:\n",
    "                    if (act_forward == 1):\n",
    "                        if (act_attack == 1):\n",
    "                            act_index = 92\n",
    "                        elif (act_jump == 1):\n",
    "                            act_index = 93\n",
    "                        elif (act_sneak == 1):\n",
    "                            act_index = 94\n",
    "                        else:\n",
    "                            act_index = 95\n",
    "\n",
    "                    elif (act_back == 1):\n",
    "                        if (act_attack == 1):\n",
    "                            act_index = 96\n",
    "                        elif (act_jump == 1):\n",
    "                            act_index = 97\n",
    "                        elif (act_sneak == 1):\n",
    "                            act_index = 98\n",
    "                        else:\n",
    "                            act_index = 99\n",
    "\n",
    "                    elif (act_right == 1):\n",
    "                        if (act_attack == 1):\n",
    "                            act_index = 100\n",
    "                        elif (act_jump == 1):\n",
    "                            act_index = 101\n",
    "                        elif (act_sneak == 1):\n",
    "                            act_index = 102\n",
    "                        else:\n",
    "                            act_index = 103\n",
    "\n",
    "                    elif (act_left == 1):\n",
    "                        if (act_attack == 1):\n",
    "                            act_index = 104\n",
    "                        elif (act_jump == 1):\n",
    "                            act_index = 105\n",
    "                        elif (act_sneak == 1):\n",
    "                            act_index = 106\n",
    "                        else:\n",
    "                            act_index = 107\n",
    "\n",
    "                    elif (act_sneak == 1):\n",
    "                        if (act_attack == 1):\n",
    "                            act_index = 108\n",
    "                        elif (act_jump == 1):\n",
    "                            act_index = 109\n",
    "                        elif (act_sneak == 1):\n",
    "                            act_index = 110\n",
    "                        else:\n",
    "                            act_index = 111\n",
    "\n",
    "                    elif (act_attack == 1): #MOST COMMON?\n",
    "                        act_index = 112\n",
    "\n",
    "                    elif (act_jump == 1):\n",
    "                        act_index = 113\n",
    "\n",
    "                    else:\n",
    "                        act_index = 114\n",
    "                    \n",
    "                \n",
    "\n",
    "#                 if (dataset_action['attack'] == 0 and dataset_action['back'] == 0 and dataset_action['camera'][0] == 0.0 and \n",
    "#                     dataset_action['camera'][1] == 0.0 and dataset_action['forward'] == 0 and dataset_action['jump'] == 0 and \n",
    "#                     dataset_action['left'] == 0 and dataset_action['right'] == 0 and dataset_action['sneak'] == 0):\n",
    "#                     #print(\"continue: \")\n",
    "#                     continue\n",
    "\n",
    "#                 if action_index == 41:\n",
    "#                     #print(\"camera_threshols: \", camera_threshols)\n",
    "#                     #print(\"dataset_action: \", dataset_action)\n",
    "#                     noop_action_num += 1\n",
    "                        \n",
    "                #print(\"observation.shape: \", observation.shap\n",
    "                #print(\"action_index: \", action_index)\n",
    "                #print(\"done: \", done)\n",
    "\n",
    "                all_obs.append([observation])#added []\n",
    "                all_actions.append(np.array([act_index]))\n",
    "\n",
    "            print(\"len(all_obs): \", len(all_obs))\n",
    "#             print(\"noop_action_num: \", noop_action_num)\n",
    "            print(\"\")\n",
    "            yield (all_obs, all_actions)\n",
    "\n",
    "            break\n",
    "    \n",
    "    def __new__(cls, num_trajectorys=3):\n",
    "        return tf.data.Dataset.from_generator(\n",
    "            cls._generator,\n",
    "            output_types=(tf.dtypes.float32, tf.dtypes.int32),\n",
    "            args=(num_trajectorys,)\n",
    "        )\n"
   ]
  },
  {
   "cell_type": "code",
   "execution_count": 14,
   "id": "a9b24db3",
   "metadata": {},
   "outputs": [],
   "source": [
    "# Specify the height and width to which each video frame will be resized in our dataset.\n",
    "IMAGE_HEIGHT , IMAGE_WIDTH = 64, 64\n",
    "\n",
    "# Specify the number of frames of a video that will be fed to the model as one sequence.\n",
    "SEQUENCE_LENGTH = 1\n",
    "\n",
    "num_actions = 115 # was 43\n",
    "num_hidden_units= 512\n",
    "CLASSES_LIST=num_actions\n",
    "\n",
    "def create_convlstm_model():\n",
    "    '''\n",
    "    This function will construct the required convlstm model.\n",
    "    Returns:\n",
    "        model: It is the required constructed convlstm model.\n",
    "    '''\n",
    "\n",
    "    # We will use a Sequential model for model construction\n",
    "    model = models.Sequential()\n",
    "\n",
    "    # Define the Model Architecture.\n",
    "    ########################################################################################################################\n",
    "    \n",
    "    model.add(layers.ConvLSTM2D(filters = 4, kernel_size = (3, 3), activation = 'tanh',data_format = \"channels_last\",\n",
    "                         recurrent_dropout=0.2, return_sequences=True, input_shape = (SEQUENCE_LENGTH,\n",
    "                                                                                      IMAGE_HEIGHT, IMAGE_WIDTH, 3)))\n",
    "    \n",
    "    model.add(layers.MaxPooling3D(pool_size=(1, 2, 2), padding='same', data_format='channels_last'))\n",
    "    model.add(layers.TimeDistributed(layers.Dropout(0.2)))\n",
    "    \n",
    "    model.add(layers.ConvLSTM2D(filters = 8, kernel_size = (3, 3), activation = 'tanh', data_format = \"channels_last\",\n",
    "                         recurrent_dropout=0.2, return_sequences=True))\n",
    "    \n",
    "    model.add(layers.MaxPooling3D(pool_size=(1, 2, 2), padding='same', data_format='channels_last'))\n",
    "    model.add(layers.TimeDistributed(layers.Dropout(0.2)))\n",
    "    \n",
    "    model.add(layers.ConvLSTM2D(filters = 14, kernel_size = (3, 3), activation = 'tanh', data_format = \"channels_last\",\n",
    "                         recurrent_dropout=0.2, return_sequences=True))\n",
    "    \n",
    "    model.add(layers.MaxPooling3D(pool_size=(1, 2, 2), padding='same', data_format='channels_last'))\n",
    "    model.add(layers.TimeDistributed(layers.Dropout(0.2)))\n",
    "    \n",
    "    model.add(layers.ConvLSTM2D(filters = 16, kernel_size = (3, 3), activation = 'tanh', data_format = \"channels_last\",\n",
    "                         recurrent_dropout=0.2, return_sequences=True))\n",
    "    \n",
    "    model.add(layers.MaxPooling3D(pool_size=(1, 2, 2), padding='same', data_format='channels_last'))\n",
    "    #model.add(TimeDistributed(Dropout(0.2)))\n",
    "    \n",
    "    model.add(layers.Flatten()) \n",
    "    \n",
    "    model.add(layers.Dense(CLASSES_LIST, activation = \"softmax\"))\n",
    "    \n",
    "    ########################################################################################################################\n",
    "     \n",
    "    # Display the models summary.\n",
    "    model.summary()\n",
    "    \n",
    "    # Return the constructed convlstm model.\n",
    "    return model"
   ]
  },
  {
   "cell_type": "code",
   "execution_count": 15,
   "id": "ce2e903e",
   "metadata": {},
   "outputs": [
    {
     "name": "stdout",
     "output_type": "stream",
     "text": [
      "Model: \"sequential_1\"\n",
      "_________________________________________________________________\n",
      " Layer (type)                Output Shape              Param #   \n",
      "=================================================================\n",
      " conv_lstm2d_4 (ConvLSTM2D)  (None, 1, 62, 62, 4)      1024      \n",
      "                                                                 \n",
      " max_pooling3d_4 (MaxPooling  (None, 1, 31, 31, 4)     0         \n",
      " 3D)                                                             \n",
      "                                                                 \n",
      " time_distributed_3 (TimeDis  (None, 1, 31, 31, 4)     0         \n",
      " tributed)                                                       \n",
      "                                                                 \n",
      " conv_lstm2d_5 (ConvLSTM2D)  (None, 1, 29, 29, 8)      3488      \n",
      "                                                                 \n",
      " max_pooling3d_5 (MaxPooling  (None, 1, 15, 15, 8)     0         \n",
      " 3D)                                                             \n",
      "                                                                 \n",
      " time_distributed_4 (TimeDis  (None, 1, 15, 15, 8)     0         \n",
      " tributed)                                                       \n",
      "                                                                 \n",
      " conv_lstm2d_6 (ConvLSTM2D)  (None, 1, 13, 13, 14)     11144     \n",
      "                                                                 \n",
      " max_pooling3d_6 (MaxPooling  (None, 1, 7, 7, 14)      0         \n",
      " 3D)                                                             \n",
      "                                                                 \n",
      " time_distributed_5 (TimeDis  (None, 1, 7, 7, 14)      0         \n",
      " tributed)                                                       \n",
      "                                                                 \n",
      " conv_lstm2d_7 (ConvLSTM2D)  (None, 1, 5, 5, 16)       17344     \n",
      "                                                                 \n",
      " max_pooling3d_7 (MaxPooling  (None, 1, 3, 3, 16)      0         \n",
      " 3D)                                                             \n",
      "                                                                 \n",
      " flatten_1 (Flatten)         (None, 144)               0         \n",
      "                                                                 \n",
      " dense_1 (Dense)             (None, 115)               16675     \n",
      "                                                                 \n",
      "=================================================================\n",
      "Total params: 49,675\n",
      "Trainable params: 49,675\n",
      "Non-trainable params: 0\n",
      "_________________________________________________________________\n",
      "Model Created Successfully!\n"
     ]
    }
   ],
   "source": [
    "# Construct the required convlstm model.\n",
    "convlstm_model = create_convlstm_model()\n",
    "\n",
    "# Display the success message. \n",
    "print(\"Model Created Successfully!\")"
   ]
  },
  {
   "cell_type": "code",
   "execution_count": 16,
   "id": "ee0b955a",
   "metadata": {},
   "outputs": [],
   "source": [
    "# Compile the model and specify loss function, optimizer and metrics values to the model\n",
    "optimizer = tf.keras.optimizers.Adam(0.0001)\n",
    "convlstm_model.compile(loss='categorical_crossentropy',optimizer=optimizer, metrics=['accuracy'])"
   ]
  },
  {
   "cell_type": "code",
   "execution_count": 20,
   "id": "d7dd547f",
   "metadata": {},
   "outputs": [
    {
     "name": "stdout",
     "output_type": "stream",
     "text": [
      "Load Pretrained Model\n"
     ]
    }
   ],
   "source": [
    "pretrained_model = True\n",
    "pretrained_name = 'tree_supervised_model_134'\n",
    "if (pretrained_model == True):\n",
    "    print(\"Load Pretrained Model\")\n",
    "    convlstm_model.load_weights(\"convlstm_model/\" + pretrained_name)"
   ]
  },
  {
   "cell_type": "code",
   "execution_count": 21,
   "id": "2de6e749",
   "metadata": {},
   "outputs": [
    {
     "name": "stdout",
     "output_type": "stream",
     "text": [
      "trajectory_name:  v3_juvenile_apple_angel-7_97824-99750\n"
     ]
    },
    {
     "name": "stderr",
     "output_type": "stream",
     "text": [
      "100%|██████████| 1888/1888 [00:00<00:00, 3673.15it/s]\n"
     ]
    },
    {
     "name": "stdout",
     "output_type": "stream",
     "text": [
      "len(all_obs):  1888\n",
      "\n",
      "episode_size:  1888\n",
      "batch_size:  1888\n",
      "Epoch 1/5\n",
      "59/59 [==============================] - 8s 127ms/step - loss: 1.9835 - accuracy: 0.4216\n",
      "Epoch 2/5\n",
      "59/59 [==============================] - 8s 135ms/step - loss: 1.8003 - accuracy: 0.5111\n",
      "Epoch 3/5\n",
      "59/59 [==============================] - 8s 128ms/step - loss: 1.7148 - accuracy: 0.5138\n",
      "Epoch 4/5\n",
      "59/59 [==============================] - 8s 131ms/step - loss: 1.6683 - accuracy: 0.5132\n",
      "Epoch 5/5\n",
      "59/59 [==============================] - 7s 126ms/step - loss: 1.6368 - accuracy: 0.5148\n",
      "trajectory_name:  v3_hideous_breadfruit_golum-6_308-2269\n"
     ]
    },
    {
     "name": "stderr",
     "output_type": "stream",
     "text": [
      "100%|██████████| 1872/1872 [00:00<00:00, 12312.16it/s]\n"
     ]
    },
    {
     "name": "stdout",
     "output_type": "stream",
     "text": [
      "len(all_obs):  1872\n",
      "\n",
      "episode_size:  1872\n",
      "batch_size:  1872\n",
      "Epoch 1/5\n",
      "59/59 [==============================] - 8s 139ms/step - loss: 2.7945 - accuracy: 0.3120\n",
      "Epoch 2/5\n",
      "59/59 [==============================] - 8s 144ms/step - loss: 2.5373 - accuracy: 0.3216\n",
      "Epoch 3/5\n",
      "59/59 [==============================] - 8s 136ms/step - loss: 2.4491 - accuracy: 0.3536\n",
      "Epoch 4/5\n",
      "59/59 [==============================] - 8s 132ms/step - loss: 2.3940 - accuracy: 0.3654\n",
      "Epoch 5/5\n",
      "59/59 [==============================] - 8s 139ms/step - loss: 2.3528 - accuracy: 0.3670\n",
      "trajectory_name:  v3_content_squash_angel-3_12835-14375\n"
     ]
    },
    {
     "name": "stderr",
     "output_type": "stream",
     "text": [
      "100%|██████████| 1528/1528 [00:00<00:00, 12085.55it/s]\n"
     ]
    },
    {
     "name": "stdout",
     "output_type": "stream",
     "text": [
      "len(all_obs):  1528\n",
      "\n",
      "episode_size:  1528\n",
      "batch_size:  1528\n",
      "Epoch 1/5\n",
      "48/48 [==============================] - 6s 130ms/step - loss: 1.7650 - accuracy: 0.5497\n",
      "Epoch 2/5\n",
      "48/48 [==============================] - 7s 138ms/step - loss: 1.6952 - accuracy: 0.5569\n",
      "Epoch 3/5\n",
      "48/48 [==============================] - 6s 134ms/step - loss: 1.6724 - accuracy: 0.5635\n",
      "Epoch 4/5\n",
      "48/48 [==============================] - 6s 134ms/step - loss: 1.6554 - accuracy: 0.5602\n",
      "Epoch 5/5\n",
      "48/48 [==============================] - 6s 135ms/step - loss: 1.6449 - accuracy: 0.5707\n",
      "trajectory_name:  v3_hoarse_watermelon_gargoyle-18_2721-4740\n"
     ]
    },
    {
     "name": "stderr",
     "output_type": "stream",
     "text": [
      "100%|██████████| 1918/1918 [00:00<00:00, 10256.81it/s]"
     ]
    },
    {
     "name": "stdout",
     "output_type": "stream",
     "text": [
      "len(all_obs):  1918\n",
      "\n",
      "episode_size:  1918\n",
      "batch_size:  1918\r\n"
     ]
    },
    {
     "name": "stderr",
     "output_type": "stream",
     "text": [
      "\n"
     ]
    },
    {
     "name": "stdout",
     "output_type": "stream",
     "text": [
      "Epoch 1/5\n",
      "60/60 [==============================] - 8s 135ms/step - loss: 2.0011 - accuracy: 0.4713\n",
      "Epoch 2/5\n",
      "60/60 [==============================] - 8s 136ms/step - loss: 1.9826 - accuracy: 0.4724\n",
      "Epoch 3/5\n",
      "60/60 [==============================] - 8s 136ms/step - loss: 1.9668 - accuracy: 0.4739\n",
      "Epoch 4/5\n",
      "60/60 [==============================] - 8s 129ms/step - loss: 1.9556 - accuracy: 0.4750\n",
      "Epoch 5/5\n",
      "60/60 [==============================] - 8s 134ms/step - loss: 1.9448 - accuracy: 0.4781\n",
      "trajectory_name:  v3_absolute_grape_changeling-17_7866-10360\n"
     ]
    },
    {
     "name": "stderr",
     "output_type": "stream",
     "text": [
      "100%|██████████| 2438/2438 [00:00<00:00, 11768.02it/s]\n"
     ]
    },
    {
     "name": "stdout",
     "output_type": "stream",
     "text": [
      "len(all_obs):  2438\n",
      "\n",
      "episode_size:  2438\n",
      "batch_size:  2438\n",
      "Epoch 1/5\n",
      "77/77 [==============================] - 10s 131ms/step - loss: 1.8398 - accuracy: 0.5480\n",
      "Epoch 2/5\n",
      "77/77 [==============================] - 10s 132ms/step - loss: 1.7681 - accuracy: 0.5607\n",
      "Epoch 3/5\n",
      "77/77 [==============================] - 10s 132ms/step - loss: 1.7371 - accuracy: 0.5628\n",
      "Epoch 4/5\n",
      "77/77 [==============================] - 10s 128ms/step - loss: 1.7188 - accuracy: 0.5615\n",
      "Epoch 5/5\n",
      "77/77 [==============================] - 10s 133ms/step - loss: 1.7060 - accuracy: 0.5623\n",
      "trajectory_name:  v3_content_squash_angel-3_9633-11189\n"
     ]
    },
    {
     "name": "stderr",
     "output_type": "stream",
     "text": [
      "100%|██████████| 1528/1528 [00:00<00:00, 13281.83it/s]"
     ]
    },
    {
     "name": "stdout",
     "output_type": "stream",
     "text": [
      "len(all_obs):  1528\n",
      "\n",
      "episode_size:  1528\n",
      "batch_size:  1528\r\n"
     ]
    },
    {
     "name": "stderr",
     "output_type": "stream",
     "text": [
      "\n"
     ]
    },
    {
     "name": "stdout",
     "output_type": "stream",
     "text": [
      "Epoch 1/5\n",
      "48/48 [==============================] - 6s 132ms/step - loss: 1.8433 - accuracy: 0.5556\n",
      "Epoch 2/5\n",
      "48/48 [==============================] - 6s 135ms/step - loss: 1.7436 - accuracy: 0.5596\n",
      "Epoch 3/5\n",
      "48/48 [==============================] - 6s 126ms/step - loss: 1.6938 - accuracy: 0.5550\n",
      "Epoch 4/5\n",
      "48/48 [==============================] - 6s 130ms/step - loss: 1.6624 - accuracy: 0.5596\n",
      "Epoch 5/5\n",
      "48/48 [==============================] - 7s 137ms/step - loss: 1.6370 - accuracy: 0.5615\n",
      "trajectory_name:  v3_svelte_cherry_devil-12_2758-4614\n"
     ]
    },
    {
     "name": "stderr",
     "output_type": "stream",
     "text": [
      "100%|██████████| 1821/1821 [00:00<00:00, 10550.80it/s]\n"
     ]
    },
    {
     "name": "stdout",
     "output_type": "stream",
     "text": [
      "len(all_obs):  1821\n",
      "\n",
      "episode_size:  1821\n",
      "batch_size:  1821\n",
      "Epoch 1/5\n",
      "57/57 [==============================] - 8s 138ms/step - loss: 2.0691 - accuracy: 0.4514\n",
      "Epoch 2/5\n",
      "57/57 [==============================] - 7s 129ms/step - loss: 2.0246 - accuracy: 0.4591\n",
      "Epoch 3/5\n",
      "57/57 [==============================] - 7s 130ms/step - loss: 1.9988 - accuracy: 0.4580\n",
      "Epoch 4/5\n",
      "57/57 [==============================] - 7s 130ms/step - loss: 1.9793 - accuracy: 0.4536\n",
      "Epoch 5/5\n",
      "57/57 [==============================] - 7s 130ms/step - loss: 1.9682 - accuracy: 0.4624\n",
      "trajectory_name:  v3_absolute_zucchini_basilisk-13_161-3252\n"
     ]
    },
    {
     "name": "stderr",
     "output_type": "stream",
     "text": [
      "100%|██████████| 3037/3037 [00:00<00:00, 7046.45it/s] \n"
     ]
    },
    {
     "name": "stdout",
     "output_type": "stream",
     "text": [
      "len(all_obs):  3037\n",
      "\n",
      "episode_size:  3037\n",
      "batch_size:  3037\n",
      "Epoch 1/5\n",
      "95/95 [==============================] - 14s 150ms/step - loss: 1.9413 - accuracy: 0.4745\n",
      "Epoch 2/5\n",
      "95/95 [==============================] - 14s 147ms/step - loss: 1.7871 - accuracy: 0.4824\n",
      "Epoch 3/5\n",
      "95/95 [==============================] - 13s 134ms/step - loss: 1.7223 - accuracy: 0.4939\n",
      "Epoch 4/5\n",
      "95/95 [==============================] - 13s 137ms/step - loss: 1.6901 - accuracy: 0.4952\n",
      "Epoch 5/5\n",
      "95/95 [==============================] - 13s 137ms/step - loss: 1.6669 - accuracy: 0.4929\n",
      "trajectory_name:  v3_glistening_okra_golum-22_7485-10661\n"
     ]
    },
    {
     "name": "stderr",
     "output_type": "stream",
     "text": [
      "100%|██████████| 3139/3139 [00:00<00:00, 10293.06it/s]\n"
     ]
    },
    {
     "name": "stdout",
     "output_type": "stream",
     "text": [
      "len(all_obs):  3139\n",
      "\n",
      "episode_size:  3139\n",
      "batch_size:  3139\n",
      "Epoch 1/5\n",
      "99/99 [==============================] - 13s 132ms/step - loss: 1.8124 - accuracy: 0.4428\n",
      "Epoch 2/5\n",
      "99/99 [==============================] - 14s 138ms/step - loss: 1.7746 - accuracy: 0.4495\n",
      "Epoch 3/5\n",
      "99/99 [==============================] - 13s 129ms/step - loss: 1.7471 - accuracy: 0.4642\n",
      "Epoch 4/5\n",
      "99/99 [==============================] - 13s 136ms/step - loss: 1.7334 - accuracy: 0.4693\n",
      "Epoch 5/5\n",
      "99/99 [==============================] - 14s 139ms/step - loss: 1.7228 - accuracy: 0.4712\n",
      "trajectory_name:  v3_bogus_guava_djinn-17_59084-61030\n"
     ]
    },
    {
     "name": "stderr",
     "output_type": "stream",
     "text": [
      "100%|██████████| 1909/1909 [00:00<00:00, 13439.42it/s]\n"
     ]
    },
    {
     "name": "stdout",
     "output_type": "stream",
     "text": [
      "len(all_obs):  1909\n",
      "\n",
      "episode_size:  1909\n",
      "batch_size:  1909\n",
      "Epoch 1/5\n",
      "60/60 [==============================] - 8s 136ms/step - loss: 2.2950 - accuracy: 0.4798\n",
      "Epoch 2/5\n",
      "60/60 [==============================] - 8s 131ms/step - loss: 2.0777 - accuracy: 0.5081\n",
      "Epoch 3/5\n",
      "60/60 [==============================] - 8s 141ms/step - loss: 1.9890 - accuracy: 0.5155\n",
      "Epoch 4/5\n",
      "60/60 [==============================] - 8s 140ms/step - loss: 1.9437 - accuracy: 0.5170\n",
      "Epoch 5/5\n",
      "60/60 [==============================] - 9s 148ms/step - loss: 1.9069 - accuracy: 0.5202\n",
      "trajectory_name:  v3_juvenile_apple_angel-7_95854-97712\n"
     ]
    },
    {
     "name": "stderr",
     "output_type": "stream",
     "text": [
      "100%|██████████| 1830/1830 [00:00<00:00, 10578.04it/s]\n"
     ]
    },
    {
     "name": "stdout",
     "output_type": "stream",
     "text": [
      "len(all_obs):  1830\n",
      "\n",
      "episode_size:  1830\n",
      "batch_size:  1830\n",
      "Epoch 1/5\n",
      "58/58 [==============================] - 8s 139ms/step - loss: 2.1066 - accuracy: 0.4180\n",
      "Epoch 2/5\n",
      "58/58 [==============================] - 8s 140ms/step - loss: 1.9608 - accuracy: 0.4169\n",
      "Epoch 3/5\n",
      "58/58 [==============================] - 8s 138ms/step - loss: 1.8899 - accuracy: 0.4268\n",
      "Epoch 4/5\n",
      "58/58 [==============================] - 8s 138ms/step - loss: 1.8456 - accuracy: 0.4404\n",
      "Epoch 5/5\n",
      "58/58 [==============================] - 8s 131ms/step - loss: 1.8152 - accuracy: 0.4563\n",
      "trajectory_name:  v3_juvenile_apple_angel-7_95854-97712\n"
     ]
    },
    {
     "name": "stderr",
     "output_type": "stream",
     "text": [
      "100%|██████████| 1830/1830 [00:00<00:00, 11090.85it/s]\n"
     ]
    },
    {
     "name": "stdout",
     "output_type": "stream",
     "text": [
      "len(all_obs):  1830\n",
      "\n",
      "episode_size:  1830\n",
      "batch_size:  1830\n",
      "Epoch 1/5\n",
      "58/58 [==============================] - 8s 144ms/step - loss: 1.8017 - accuracy: 0.4699\n",
      "Epoch 2/5\n",
      "58/58 [==============================] - 8s 135ms/step - loss: 1.7814 - accuracy: 0.4732\n",
      "Epoch 3/5\n",
      "58/58 [==============================] - 9s 155ms/step - loss: 1.7698 - accuracy: 0.4710\n",
      "Epoch 4/5\n",
      "58/58 [==============================] - 9s 147ms/step - loss: 1.7544 - accuracy: 0.4831\n",
      "Epoch 5/5\n",
      "58/58 [==============================] - 8s 135ms/step - loss: 1.7514 - accuracy: 0.4820\n",
      "trajectory_name:  v3_glistening_okra_golum-22_13990-16223\n"
     ]
    },
    {
     "name": "stderr",
     "output_type": "stream",
     "text": [
      "100%|██████████| 2195/2195 [00:00<00:00, 8710.33it/s] \n"
     ]
    },
    {
     "name": "stdout",
     "output_type": "stream",
     "text": [
      "len(all_obs):  2195\n",
      "\n",
      "episode_size:  2195\n",
      "batch_size:  2195\n",
      "Epoch 1/5\n",
      "69/69 [==============================] - 10s 149ms/step - loss: 2.1727 - accuracy: 0.4752\n",
      "Epoch 2/5\n",
      "69/69 [==============================] - 11s 153ms/step - loss: 1.8239 - accuracy: 0.5690\n",
      "Epoch 3/5\n",
      "69/69 [==============================] - 10s 147ms/step - loss: 1.6738 - accuracy: 0.5727\n",
      "Epoch 4/5\n",
      "69/69 [==============================] - 10s 148ms/step - loss: 1.5839 - accuracy: 0.5736\n",
      "Epoch 5/5\n",
      "69/69 [==============================] - 10s 139ms/step - loss: 1.5241 - accuracy: 0.5749\n",
      "trajectory_name:  v3_equal_olive_chimera-6_7294-9979\n"
     ]
    },
    {
     "name": "stderr",
     "output_type": "stream",
     "text": [
      "100%|██████████| 2661/2661 [00:00<00:00, 11826.62it/s]\n"
     ]
    },
    {
     "name": "stdout",
     "output_type": "stream",
     "text": [
      "len(all_obs):  2661\n",
      "\n",
      "episode_size:  2661\n",
      "batch_size:  2661\n",
      "Epoch 1/5\n",
      "84/84 [==============================] - 11s 134ms/step - loss: 2.4931 - accuracy: 0.4457\n",
      "Epoch 2/5\n",
      "84/84 [==============================] - 11s 133ms/step - loss: 2.3107 - accuracy: 0.4521\n",
      "Epoch 3/5\n",
      "84/84 [==============================] - 11s 128ms/step - loss: 2.2517 - accuracy: 0.4517\n",
      "Epoch 4/5\n",
      "84/84 [==============================] - 12s 141ms/step - loss: 2.2147 - accuracy: 0.4532\n",
      "Epoch 5/5\n",
      "84/84 [==============================] - 11s 134ms/step - loss: 2.1829 - accuracy: 0.4551\n",
      "trajectory_name:  v3_familiar_endive_ghost-2_48848-50816\n"
     ]
    },
    {
     "name": "stderr",
     "output_type": "stream",
     "text": [
      "100%|██████████| 1909/1909 [00:00<00:00, 12894.64it/s]\n"
     ]
    },
    {
     "name": "stdout",
     "output_type": "stream",
     "text": [
      "len(all_obs):  1909\n",
      "\n",
      "episode_size:  1909\n",
      "batch_size:  1909\n",
      "Epoch 1/5\n",
      "60/60 [==============================] - 8s 127ms/step - loss: 2.0214 - accuracy: 0.5097\n",
      "Epoch 2/5\n",
      "60/60 [==============================] - 8s 135ms/step - loss: 1.9741 - accuracy: 0.5212\n",
      "Epoch 3/5\n",
      "60/60 [==============================] - 8s 137ms/step - loss: 1.9544 - accuracy: 0.5265\n",
      "Epoch 4/5\n",
      "60/60 [==============================] - 8s 136ms/step - loss: 1.9372 - accuracy: 0.5212\n",
      "Epoch 5/5\n",
      "60/60 [==============================] - 9s 146ms/step - loss: 1.9182 - accuracy: 0.5312\n",
      "trajectory_name:  v3_smooth_kale_loch_ness_monster-1_149-2126\n"
     ]
    },
    {
     "name": "stderr",
     "output_type": "stream",
     "text": [
      "100%|██████████| 1949/1949 [00:00<00:00, 9891.11it/s] \n"
     ]
    },
    {
     "name": "stdout",
     "output_type": "stream",
     "text": [
      "len(all_obs):  1949\n",
      "\n",
      "episode_size:  1949\n",
      "batch_size:  1949\n",
      "Epoch 1/5\n",
      "61/61 [==============================] - 9s 149ms/step - loss: 2.1013 - accuracy: 0.5018\n",
      "Epoch 2/5\n",
      "61/61 [==============================] - 8s 138ms/step - loss: 2.0808 - accuracy: 0.5044\n",
      "Epoch 3/5\n",
      "61/61 [==============================] - 9s 148ms/step - loss: 2.0699 - accuracy: 0.5038\n",
      "Epoch 4/5\n",
      "61/61 [==============================] - 9s 156ms/step - loss: 2.0571 - accuracy: 0.5013\n",
      "Epoch 5/5\n",
      "61/61 [==============================] - 10s 159ms/step - loss: 2.0417 - accuracy: 0.5023\n",
      "trajectory_name:  v3_content_squash_angel-3_23010-24569\n"
     ]
    },
    {
     "name": "stderr",
     "output_type": "stream",
     "text": [
      "100%|██████████| 1537/1537 [00:00<00:00, 6741.22it/s]\n"
     ]
    },
    {
     "name": "stdout",
     "output_type": "stream",
     "text": [
      "len(all_obs):  1537\n",
      "\n",
      "episode_size:  1537\n",
      "batch_size:  1537\n",
      "Epoch 1/5\n",
      "49/49 [==============================] - 9s 187ms/step - loss: 1.7528 - accuracy: 0.5647\n",
      "Epoch 2/5\n",
      "49/49 [==============================] - 7s 150ms/step - loss: 1.7295 - accuracy: 0.5686\n",
      "Epoch 3/5\n",
      "49/49 [==============================] - 7s 138ms/step - loss: 1.7094 - accuracy: 0.5745\n",
      "Epoch 4/5\n",
      "49/49 [==============================] - 7s 136ms/step - loss: 1.6954 - accuracy: 0.5777\n",
      "Epoch 5/5\n",
      "49/49 [==============================] - 7s 141ms/step - loss: 1.6894 - accuracy: 0.5745\n",
      "trajectory_name:  v3_subtle_iceberg_lettuce_nymph-6_11891-13311\n"
     ]
    },
    {
     "name": "stderr",
     "output_type": "stream",
     "text": [
      "100%|██████████| 1384/1384 [00:00<00:00, 10728.47it/s]\n"
     ]
    },
    {
     "name": "stdout",
     "output_type": "stream",
     "text": [
      "len(all_obs):  1384\n",
      "\n",
      "episode_size:  1384\n",
      "batch_size:  1384\n",
      "Epoch 1/5\n",
      "44/44 [==============================] - 6s 127ms/step - loss: 1.6914 - accuracy: 0.5744\n",
      "Epoch 2/5\n",
      "44/44 [==============================] - 6s 126ms/step - loss: 1.6787 - accuracy: 0.5723\n",
      "Epoch 3/5\n",
      "44/44 [==============================] - 6s 128ms/step - loss: 1.6660 - accuracy: 0.5759\n",
      "Epoch 4/5\n",
      "44/44 [==============================] - 5s 124ms/step - loss: 1.6572 - accuracy: 0.5751\n",
      "Epoch 5/5\n",
      "44/44 [==============================] - 6s 134ms/step - loss: 1.6509 - accuracy: 0.5780\n",
      "trajectory_name:  v3_unselfish_blood_orange_savage-14_19453-21012\n"
     ]
    },
    {
     "name": "stderr",
     "output_type": "stream",
     "text": [
      "100%|██████████| 1529/1529 [00:00<00:00, 12632.70it/s]\n"
     ]
    },
    {
     "name": "stdout",
     "output_type": "stream",
     "text": [
      "len(all_obs):  1529\n",
      "\n",
      "episode_size:  1529\n",
      "batch_size:  1529\n",
      "Epoch 1/5\n",
      "48/48 [==============================] - 7s 136ms/step - loss: 1.9605 - accuracy: 0.5350\n",
      "Epoch 2/5\n",
      "48/48 [==============================] - 6s 134ms/step - loss: 1.8743 - accuracy: 0.5494\n",
      "Epoch 3/5\n",
      "48/48 [==============================] - 7s 137ms/step - loss: 1.8277 - accuracy: 0.5572\n",
      "Epoch 4/5\n",
      "48/48 [==============================] - 7s 139ms/step - loss: 1.7960 - accuracy: 0.5553\n",
      "Epoch 5/5\n",
      "48/48 [==============================] - 7s 141ms/step - loss: 1.7708 - accuracy: 0.5540\n",
      "trajectory_name:  v3_cute_breadfruit_spirit-6_21252-23258\n"
     ]
    },
    {
     "name": "stderr",
     "output_type": "stream",
     "text": [
      "100%|██████████| 1967/1967 [00:00<00:00, 8442.15it/s]\n"
     ]
    },
    {
     "name": "stdout",
     "output_type": "stream",
     "text": [
      "len(all_obs):  1967\n",
      "\n",
      "episode_size:  1967\n",
      "batch_size:  1967\n",
      "Epoch 1/5\n",
      "62/62 [==============================] - 8s 132ms/step - loss: 2.1315 - accuracy: 0.4469\n",
      "Epoch 2/5\n",
      "62/62 [==============================] - 8s 133ms/step - loss: 2.0875 - accuracy: 0.4616\n",
      "Epoch 3/5\n",
      "62/62 [==============================] - 9s 142ms/step - loss: 2.0579 - accuracy: 0.4657\n",
      "Epoch 4/5\n",
      "62/62 [==============================] - 9s 140ms/step - loss: 2.0376 - accuracy: 0.4723\n",
      "Epoch 5/5\n",
      "62/62 [==============================] - 9s 146ms/step - loss: 2.0219 - accuracy: 0.4753\n",
      "trajectory_name:  v3_absolute_grape_changeling-15_8154-10619\n"
     ]
    },
    {
     "name": "stderr",
     "output_type": "stream",
     "text": [
      "100%|██████████| 2441/2441 [00:00<00:00, 7951.11it/s] \n"
     ]
    },
    {
     "name": "stdout",
     "output_type": "stream",
     "text": [
      "len(all_obs):  2441\n",
      "\n",
      "episode_size:  2441\n",
      "batch_size:  2441\n",
      "Epoch 1/5\n",
      "77/77 [==============================] - 11s 142ms/step - loss: 2.1244 - accuracy: 0.5240\n",
      "Epoch 2/5\n",
      "77/77 [==============================] - 11s 139ms/step - loss: 2.0510 - accuracy: 0.5268\n",
      "Epoch 3/5\n",
      "77/77 [==============================] - 11s 137ms/step - loss: 2.0006 - accuracy: 0.5277\n",
      "Epoch 4/5\n",
      "77/77 [==============================] - 10s 135ms/step - loss: 1.9631 - accuracy: 0.5252\n",
      "Epoch 5/5\n",
      "77/77 [==============================] - 11s 145ms/step - loss: 1.9417 - accuracy: 0.5240\n",
      "trajectory_name:  v3_unselfish_blood_orange_savage-8_852-3484\n"
     ]
    },
    {
     "name": "stderr",
     "output_type": "stream",
     "text": [
      "100%|██████████| 2544/2544 [00:00<00:00, 11514.28it/s]\n"
     ]
    },
    {
     "name": "stdout",
     "output_type": "stream",
     "text": [
      "len(all_obs):  2544\n",
      "\n",
      "episode_size:  2544\n",
      "batch_size:  2544\n",
      "Epoch 1/5\n",
      "80/80 [==============================] - 11s 137ms/step - loss: 2.0477 - accuracy: 0.4296\n",
      "Epoch 2/5\n",
      "80/80 [==============================] - 11s 133ms/step - loss: 1.9153 - accuracy: 0.4552\n",
      "Epoch 3/5\n",
      "80/80 [==============================] - 11s 136ms/step - loss: 1.8766 - accuracy: 0.4717\n",
      "Epoch 4/5\n",
      "80/80 [==============================] - 11s 143ms/step - loss: 1.8655 - accuracy: 0.4662\n",
      "Epoch 5/5\n",
      "80/80 [==============================] - 12s 145ms/step - loss: 1.8549 - accuracy: 0.4662\n",
      "trajectory_name:  v3_glistening_okra_golum-22_13990-16223\n"
     ]
    },
    {
     "name": "stderr",
     "output_type": "stream",
     "text": [
      "100%|██████████| 2195/2195 [00:00<00:00, 10812.83it/s]\n"
     ]
    },
    {
     "name": "stdout",
     "output_type": "stream",
     "text": [
      "len(all_obs):  2195\n",
      "\n",
      "episode_size:  2195\n",
      "batch_size:  2195\n",
      "Epoch 1/5\n",
      "69/69 [==============================] - 9s 134ms/step - loss: 1.6058 - accuracy: 0.5613\n",
      "Epoch 2/5\n",
      "69/69 [==============================] - 9s 133ms/step - loss: 1.5423 - accuracy: 0.5622\n",
      "Epoch 3/5\n",
      "69/69 [==============================] - 9s 129ms/step - loss: 1.5031 - accuracy: 0.5672\n",
      "Epoch 4/5\n",
      "69/69 [==============================] - 9s 134ms/step - loss: 1.4762 - accuracy: 0.5740\n",
      "Epoch 5/5\n",
      "69/69 [==============================] - 9s 131ms/step - loss: 1.4653 - accuracy: 0.5713\n",
      "trajectory_name:  v3_cute_breadfruit_spirit-6_21252-23258\n"
     ]
    },
    {
     "name": "stderr",
     "output_type": "stream",
     "text": [
      "100%|██████████| 1967/1967 [00:00<00:00, 10518.37it/s]\n"
     ]
    },
    {
     "name": "stdout",
     "output_type": "stream",
     "text": [
      "len(all_obs):  1967\n",
      "\n",
      "episode_size:  1967\n",
      "batch_size:  1967\n",
      "Epoch 1/5\n",
      "62/62 [==============================] - 8s 134ms/step - loss: 2.2125 - accuracy: 0.4698\n",
      "Epoch 2/5\n",
      "62/62 [==============================] - 9s 138ms/step - loss: 2.0685 - accuracy: 0.4779\n",
      "Epoch 3/5\n",
      "62/62 [==============================] - 8s 134ms/step - loss: 2.0176 - accuracy: 0.4794\n",
      "Epoch 4/5\n",
      "62/62 [==============================] - 9s 142ms/step - loss: 1.9968 - accuracy: 0.4804\n",
      "Epoch 5/5\n",
      "62/62 [==============================] - 8s 130ms/step - loss: 1.9792 - accuracy: 0.4799\n",
      "trajectory_name:  v3_juvenile_apple_angel-7_105048-106450\n"
     ]
    },
    {
     "name": "stderr",
     "output_type": "stream",
     "text": [
      "100%|██████████| 1379/1379 [00:00<00:00, 13526.31it/s]"
     ]
    },
    {
     "name": "stdout",
     "output_type": "stream",
     "text": [
      "len(all_obs):  1379\n",
      "\n",
      "episode_size:  1379\n",
      "batch_size:  1379\r\n"
     ]
    },
    {
     "name": "stderr",
     "output_type": "stream",
     "text": [
      "\n"
     ]
    },
    {
     "name": "stdout",
     "output_type": "stream",
     "text": [
      "Epoch 1/5\n",
      "44/44 [==============================] - 6s 137ms/step - loss: 1.9229 - accuracy: 0.4728\n",
      "Epoch 2/5\n",
      "44/44 [==============================] - 5s 124ms/step - loss: 1.7535 - accuracy: 0.4851\n",
      "Epoch 3/5\n",
      "44/44 [==============================] - 6s 128ms/step - loss: 1.6768 - accuracy: 0.5192\n",
      "Epoch 4/5\n",
      "44/44 [==============================] - 6s 142ms/step - loss: 1.6395 - accuracy: 0.5395\n",
      "Epoch 5/5\n",
      "44/44 [==============================] - 6s 135ms/step - loss: 1.6072 - accuracy: 0.5468\n",
      "trajectory_name:  v3_excellent_pluot_behemoth-11_44536-47479\n"
     ]
    },
    {
     "name": "stderr",
     "output_type": "stream",
     "text": [
      "100%|██████████| 2931/2931 [00:00<00:00, 10001.89it/s]\n"
     ]
    },
    {
     "name": "stdout",
     "output_type": "stream",
     "text": [
      "len(all_obs):  2931\n",
      "\n",
      "episode_size:  2931\n",
      "batch_size:  2931\n",
      "Epoch 1/5\n",
      "92/92 [==============================] - 13s 142ms/step - loss: 2.5281 - accuracy: 0.3849\n",
      "Epoch 2/5\n",
      "92/92 [==============================] - 13s 136ms/step - loss: 2.3194 - accuracy: 0.3937\n",
      "Epoch 3/5\n",
      "92/92 [==============================] - 13s 138ms/step - loss: 2.2255 - accuracy: 0.3995\n",
      "Epoch 4/5\n",
      "92/92 [==============================] - 13s 139ms/step - loss: 2.1787 - accuracy: 0.4063\n",
      "Epoch 5/5\n",
      "92/92 [==============================] - 13s 143ms/step - loss: 2.1535 - accuracy: 0.4115\n",
      "trajectory_name:  v3_remorseful_current_savage-1_2662-4329\n"
     ]
    },
    {
     "name": "stderr",
     "output_type": "stream",
     "text": [
      "100%|██████████| 1628/1628 [00:00<00:00, 12818.77it/s]\n"
     ]
    },
    {
     "name": "stdout",
     "output_type": "stream",
     "text": [
      "len(all_obs):  1628\n",
      "\n",
      "episode_size:  1628\n",
      "batch_size:  1628\n",
      "Epoch 1/5\n",
      "51/51 [==============================] - 8s 154ms/step - loss: 1.8536 - accuracy: 0.5743\n",
      "Epoch 2/5\n",
      "51/51 [==============================] - 7s 138ms/step - loss: 1.7882 - accuracy: 0.5854\n",
      "Epoch 3/5\n",
      "51/51 [==============================] - 7s 144ms/step - loss: 1.7584 - accuracy: 0.5891\n",
      "Epoch 4/5\n",
      "51/51 [==============================] - 7s 135ms/step - loss: 1.7372 - accuracy: 0.5866\n",
      "Epoch 5/5\n",
      "51/51 [==============================] - 7s 133ms/step - loss: 1.7218 - accuracy: 0.5854\n",
      "trajectory_name:  v3_equal_olive_chimera-6_10120-13407\n"
     ]
    },
    {
     "name": "stderr",
     "output_type": "stream",
     "text": [
      "100%|██████████| 3250/3250 [00:00<00:00, 7174.38it/s] \n"
     ]
    },
    {
     "name": "stdout",
     "output_type": "stream",
     "text": [
      "len(all_obs):  3250\n",
      "\n",
      "episode_size:  3250\n",
      "batch_size:  3250\n",
      "Epoch 1/5\n",
      "102/102 [==============================] - 15s 149ms/step - loss: 2.2363 - accuracy: 0.3889\n",
      "Epoch 2/5\n",
      "102/102 [==============================] - 15s 144ms/step - loss: 2.0939 - accuracy: 0.3938\n",
      "Epoch 3/5\n",
      "102/102 [==============================] - 15s 143ms/step - loss: 2.0201 - accuracy: 0.5003\n",
      "Epoch 4/5\n",
      "102/102 [==============================] - 15s 144ms/step - loss: 1.9716 - accuracy: 0.5212\n",
      "Epoch 5/5\n",
      "102/102 [==============================] - 15s 145ms/step - loss: 1.9363 - accuracy: 0.5145\n",
      "trajectory_name:  v3_juvenile_apple_angel-7_115834-117438\n"
     ]
    },
    {
     "name": "stderr",
     "output_type": "stream",
     "text": [
      "100%|██████████| 1573/1573 [00:00<00:00, 14431.13it/s]\n"
     ]
    },
    {
     "name": "stdout",
     "output_type": "stream",
     "text": [
      "len(all_obs):  1573\n",
      "\n",
      "episode_size:  1573\n",
      "batch_size:  1573\n",
      "Epoch 1/5\n",
      "50/50 [==============================] - 7s 144ms/step - loss: 1.8570 - accuracy: 0.4749\n",
      "Epoch 2/5\n",
      "50/50 [==============================] - 7s 138ms/step - loss: 1.6887 - accuracy: 0.5118\n",
      "Epoch 3/5\n",
      "50/50 [==============================] - 7s 146ms/step - loss: 1.6422 - accuracy: 0.5207\n",
      "Epoch 4/5\n",
      "50/50 [==============================] - 7s 141ms/step - loss: 1.6102 - accuracy: 0.5213\n",
      "Epoch 5/5\n",
      "50/50 [==============================] - 7s 133ms/step - loss: 1.5843 - accuracy: 0.5270\n",
      "trajectory_name:  v3_ready_wasabi_orc-9_4623-7128\n"
     ]
    },
    {
     "name": "stderr",
     "output_type": "stream",
     "text": [
      "100%|██████████| 2457/2457 [00:00<00:00, 10111.10it/s]\n"
     ]
    },
    {
     "name": "stdout",
     "output_type": "stream",
     "text": [
      "len(all_obs):  2457\n",
      "\n",
      "episode_size:  2457\n",
      "batch_size:  2457\n",
      "Epoch 1/5\n",
      "77/77 [==============================] - 13s 165ms/step - loss: 2.2126 - accuracy: 0.4046\n",
      "Epoch 2/5\n",
      "77/77 [==============================] - 13s 175ms/step - loss: 1.8641 - accuracy: 0.4929\n",
      "Epoch 3/5\n",
      "77/77 [==============================] - 13s 172ms/step - loss: 1.7623 - accuracy: 0.4978\n",
      "Epoch 4/5\n",
      "77/77 [==============================] - 12s 160ms/step - loss: 1.7175 - accuracy: 0.4998\n",
      "Epoch 5/5\n",
      "77/77 [==============================] - 11s 140ms/step - loss: 1.6867 - accuracy: 0.5092\n",
      "trajectory_name:  v3_glistening_okra_golum-22_13990-16223\n"
     ]
    },
    {
     "name": "stderr",
     "output_type": "stream",
     "text": [
      "100%|██████████| 2195/2195 [00:00<00:00, 9669.68it/s] \n"
     ]
    },
    {
     "name": "stdout",
     "output_type": "stream",
     "text": [
      "len(all_obs):  2195\n",
      "\n",
      "episode_size:  2195\n",
      "batch_size:  2195\n",
      "Epoch 1/5\n",
      "69/69 [==============================] - 10s 140ms/step - loss: 1.6472 - accuracy: 0.5235\n",
      "Epoch 2/5\n",
      "69/69 [==============================] - 9s 137ms/step - loss: 1.5461 - accuracy: 0.5535\n",
      "Epoch 3/5\n",
      "69/69 [==============================] - 9s 135ms/step - loss: 1.5087 - accuracy: 0.5617\n",
      "Epoch 4/5\n",
      "69/69 [==============================] - 13s 191ms/step - loss: 1.4828 - accuracy: 0.5727\n",
      "Epoch 5/5\n",
      "69/69 [==============================] - 9s 134ms/step - loss: 1.4635 - accuracy: 0.5809\n",
      "trajectory_name:  v3_svelte_cherry_devil-12_10525-12549\n"
     ]
    },
    {
     "name": "stderr",
     "output_type": "stream",
     "text": [
      "100%|██████████| 2001/2001 [00:00<00:00, 10934.38it/s]"
     ]
    },
    {
     "name": "stdout",
     "output_type": "stream",
     "text": [
      "len(all_obs):  2001\n",
      "\n",
      "episode_size:  2001\n",
      "batch_size:  2001\r\n"
     ]
    },
    {
     "name": "stderr",
     "output_type": "stream",
     "text": [
      "\n"
     ]
    },
    {
     "name": "stdout",
     "output_type": "stream",
     "text": [
      "Epoch 1/5\n",
      "63/63 [==============================] - 10s 154ms/step - loss: 2.3089 - accuracy: 0.4363\n",
      "Epoch 2/5\n",
      "63/63 [==============================] - 9s 150ms/step - loss: 2.1705 - accuracy: 0.4468\n",
      "Epoch 3/5\n",
      "63/63 [==============================] - 8s 133ms/step - loss: 2.1235 - accuracy: 0.4473\n",
      "Epoch 4/5\n",
      "63/63 [==============================] - 9s 145ms/step - loss: 2.0976 - accuracy: 0.4478\n",
      "Epoch 5/5\n",
      "63/63 [==============================] - 9s 140ms/step - loss: 2.0759 - accuracy: 0.4448\n",
      "trajectory_name:  v3_unselfish_blood_orange_savage-14_19453-21012\n"
     ]
    },
    {
     "name": "stderr",
     "output_type": "stream",
     "text": [
      "100%|██████████| 1529/1529 [00:00<00:00, 12134.93it/s]\n"
     ]
    },
    {
     "name": "stdout",
     "output_type": "stream",
     "text": [
      "len(all_obs):  1529\n",
      "\n",
      "episode_size:  1529\n",
      "batch_size:  1529\n",
      "Epoch 1/5\n",
      "48/48 [==============================] - 7s 138ms/step - loss: 1.8750 - accuracy: 0.5409\n",
      "Epoch 2/5\n",
      "48/48 [==============================] - 7s 140ms/step - loss: 1.8271 - accuracy: 0.5592\n",
      "Epoch 3/5\n",
      "48/48 [==============================] - 7s 145ms/step - loss: 1.7874 - accuracy: 0.5559\n",
      "Epoch 4/5\n",
      "48/48 [==============================] - 6s 131ms/step - loss: 1.7658 - accuracy: 0.5546\n",
      "Epoch 5/5\n",
      "48/48 [==============================] - 7s 137ms/step - loss: 1.7393 - accuracy: 0.5533\n",
      "trajectory_name:  v3_subtle_iceberg_lettuce_nymph-6_8114-9739\n"
     ]
    },
    {
     "name": "stderr",
     "output_type": "stream",
     "text": [
      "100%|██████████| 1513/1513 [00:00<00:00, 11724.94it/s]\n"
     ]
    },
    {
     "name": "stdout",
     "output_type": "stream",
     "text": [
      "len(all_obs):  1513\n",
      "\n",
      "episode_size:  1513\n",
      "batch_size:  1513\n",
      "Epoch 1/5\n",
      "48/48 [==============================] - 6s 133ms/step - loss: 1.7003 - accuracy: 0.5876\n",
      "Epoch 2/5\n",
      "48/48 [==============================] - 6s 131ms/step - loss: 1.6595 - accuracy: 0.5948\n",
      "Epoch 3/5\n",
      "48/48 [==============================] - 6s 126ms/step - loss: 1.6332 - accuracy: 0.5922\n",
      "Epoch 4/5\n",
      "48/48 [==============================] - 6s 132ms/step - loss: 1.6159 - accuracy: 0.5929\n",
      "Epoch 5/5\n",
      "48/48 [==============================] - 7s 145ms/step - loss: 1.5948 - accuracy: 0.6034\n",
      "trajectory_name:  v3_content_squash_angel-3_9633-11189\n"
     ]
    },
    {
     "name": "stderr",
     "output_type": "stream",
     "text": [
      "100%|██████████| 1528/1528 [00:00<00:00, 11752.84it/s]\n"
     ]
    },
    {
     "name": "stdout",
     "output_type": "stream",
     "text": [
      "len(all_obs):  1528\n",
      "\n",
      "episode_size:  1528\n",
      "batch_size:  1528\n",
      "Epoch 1/5\n",
      "48/48 [==============================] - 6s 134ms/step - loss: 1.6137 - accuracy: 0.5622\n",
      "Epoch 2/5\n",
      "48/48 [==============================] - 7s 139ms/step - loss: 1.5915 - accuracy: 0.5609\n",
      "Epoch 3/5\n",
      "48/48 [==============================] - 6s 128ms/step - loss: 1.5713 - accuracy: 0.5609\n",
      "Epoch 4/5\n",
      "48/48 [==============================] - 6s 128ms/step - loss: 1.5551 - accuracy: 0.5694\n",
      "Epoch 5/5\n",
      "48/48 [==============================] - 7s 140ms/step - loss: 1.5469 - accuracy: 0.5694\n",
      "trajectory_name:  v3_unselfish_blood_orange_savage-21_599-2307\n"
     ]
    },
    {
     "name": "stderr",
     "output_type": "stream",
     "text": [
      "100%|██████████| 1672/1672 [00:00<00:00, 11578.65it/s]\n"
     ]
    },
    {
     "name": "stdout",
     "output_type": "stream",
     "text": [
      "len(all_obs):  1672\n",
      "\n",
      "episode_size:  1672\n",
      "batch_size:  1672\n",
      "Epoch 1/5\n",
      "53/53 [==============================] - 7s 133ms/step - loss: 2.1267 - accuracy: 0.4569\n",
      "Epoch 2/5\n",
      "53/53 [==============================] - 8s 142ms/step - loss: 2.0925 - accuracy: 0.4611\n",
      "Epoch 3/5\n",
      "53/53 [==============================] - 7s 133ms/step - loss: 2.0721 - accuracy: 0.4557\n",
      "Epoch 4/5\n",
      "53/53 [==============================] - 7s 134ms/step - loss: 2.0513 - accuracy: 0.4689\n",
      "Epoch 5/5\n",
      "53/53 [==============================] - 7s 131ms/step - loss: 2.0327 - accuracy: 0.4731\n",
      "trajectory_name:  v3_juvenile_apple_angel-7_94164-95806\n"
     ]
    },
    {
     "name": "stderr",
     "output_type": "stream",
     "text": [
      "100%|██████████| 1615/1615 [00:00<00:00, 12616.97it/s]\n"
     ]
    },
    {
     "name": "stdout",
     "output_type": "stream",
     "text": [
      "len(all_obs):  1615\n",
      "\n",
      "episode_size:  1615\n",
      "batch_size:  1615\n",
      "Epoch 1/5\n",
      "51/51 [==============================] - 7s 143ms/step - loss: 1.9382 - accuracy: 0.4991\n",
      "Epoch 2/5\n",
      "51/51 [==============================] - 6s 128ms/step - loss: 1.9250 - accuracy: 0.5084\n",
      "Epoch 3/5\n",
      "51/51 [==============================] - 6s 124ms/step - loss: 1.9057 - accuracy: 0.5108\n",
      "Epoch 4/5\n",
      "51/51 [==============================] - 7s 132ms/step - loss: 1.8915 - accuracy: 0.5127\n",
      "Epoch 5/5\n",
      "51/51 [==============================] - 7s 136ms/step - loss: 1.8808 - accuracy: 0.5108\n",
      "trajectory_name:  v3_absolute_grape_changeling-15_270-2495\n"
     ]
    },
    {
     "name": "stderr",
     "output_type": "stream",
     "text": [
      "100%|██████████| 2194/2194 [00:00<00:00, 11426.99it/s]\n"
     ]
    },
    {
     "name": "stdout",
     "output_type": "stream",
     "text": [
      "len(all_obs):  2194\n",
      "\n",
      "episode_size:  2194\n",
      "batch_size:  2194\n",
      "Epoch 1/5\n",
      "69/69 [==============================] - 10s 141ms/step - loss: 2.2479 - accuracy: 0.4686\n",
      "Epoch 2/5\n",
      "69/69 [==============================] - 9s 131ms/step - loss: 2.1322 - accuracy: 0.4799\n",
      "Epoch 3/5\n",
      "69/69 [==============================] - 10s 145ms/step - loss: 2.0747 - accuracy: 0.4881\n",
      "Epoch 4/5\n",
      "69/69 [==============================] - 10s 141ms/step - loss: 2.0388 - accuracy: 0.4859\n",
      "Epoch 5/5\n",
      "69/69 [==============================] - 10s 138ms/step - loss: 2.0171 - accuracy: 0.4881\n",
      "trajectory_name:  v3_absolute_grape_changeling-16_149-2199\n"
     ]
    },
    {
     "name": "stderr",
     "output_type": "stream",
     "text": [
      "100%|██████████| 2013/2013 [00:00<00:00, 8084.34it/s] \n"
     ]
    },
    {
     "name": "stdout",
     "output_type": "stream",
     "text": [
      "len(all_obs):  2013\n",
      "\n",
      "episode_size:  2013\n",
      "batch_size:  2013\n",
      "Epoch 1/5\n",
      "63/63 [==============================] - 8s 131ms/step - loss: 1.8917 - accuracy: 0.5479\n",
      "Epoch 2/5\n",
      "63/63 [==============================] - 8s 130ms/step - loss: 1.8576 - accuracy: 0.5609\n",
      "Epoch 3/5\n",
      "63/63 [==============================] - 9s 138ms/step - loss: 1.8369 - accuracy: 0.5623\n",
      "Epoch 4/5\n",
      "63/63 [==============================] - 9s 146ms/step - loss: 1.8216 - accuracy: 0.5653\n",
      "Epoch 5/5\n",
      "63/63 [==============================] - 9s 141ms/step - loss: 1.8085 - accuracy: 0.5688\n",
      "trajectory_name:  v3_juvenile_apple_angel-7_94164-95806\n"
     ]
    },
    {
     "name": "stderr",
     "output_type": "stream",
     "text": [
      "100%|██████████| 1615/1615 [00:00<00:00, 12141.93it/s]\n"
     ]
    },
    {
     "name": "stdout",
     "output_type": "stream",
     "text": [
      "len(all_obs):  1615\n",
      "\n",
      "episode_size:  1615\n",
      "batch_size:  1615\n",
      "Epoch 1/5\n",
      "51/51 [==============================] - 12s 247ms/step - loss: 2.0552 - accuracy: 0.5028\n",
      "Epoch 2/5\n",
      "51/51 [==============================] - 7s 131ms/step - loss: 1.9556 - accuracy: 0.5077\n",
      "Epoch 3/5\n",
      "51/51 [==============================] - 7s 138ms/step - loss: 1.9117 - accuracy: 0.5071\n",
      "Epoch 4/5\n",
      "51/51 [==============================] - 7s 147ms/step - loss: 1.8856 - accuracy: 0.5102\n",
      "Epoch 5/5\n",
      "51/51 [==============================] - 7s 143ms/step - loss: 1.8638 - accuracy: 0.5090\n",
      "trajectory_name:  v3_glistening_okra_golum-22_7485-10661\n"
     ]
    },
    {
     "name": "stderr",
     "output_type": "stream",
     "text": [
      "100%|██████████| 3139/3139 [00:00<00:00, 10788.63it/s]\n"
     ]
    },
    {
     "name": "stdout",
     "output_type": "stream",
     "text": [
      "len(all_obs):  3139\n",
      "\n",
      "episode_size:  3139\n",
      "batch_size:  3139\n",
      "Epoch 1/5\n",
      "99/99 [==============================] - 14s 143ms/step - loss: 2.1150 - accuracy: 0.4326\n",
      "Epoch 2/5\n",
      "99/99 [==============================] - 15s 153ms/step - loss: 1.8247 - accuracy: 0.4454\n",
      "Epoch 3/5\n",
      "99/99 [==============================] - 18s 179ms/step - loss: 1.7537 - accuracy: 0.4527\n",
      "Epoch 4/5\n",
      "99/99 [==============================] - 16s 156ms/step - loss: 1.7253 - accuracy: 0.4667\n",
      "Epoch 5/5\n",
      "99/99 [==============================] - 14s 144ms/step - loss: 1.7111 - accuracy: 0.4667\n",
      "trajectory_name:  v3_equal_olive_chimera-7_392-2190\n"
     ]
    },
    {
     "name": "stderr",
     "output_type": "stream",
     "text": [
      "100%|██████████| 1767/1767 [00:00<00:00, 14250.07it/s]\n"
     ]
    },
    {
     "name": "stdout",
     "output_type": "stream",
     "text": [
      "len(all_obs):  1767\n",
      "\n",
      "episode_size:  1767\n",
      "batch_size:  1767\n",
      "Epoch 1/5\n",
      "56/56 [==============================] - 8s 140ms/step - loss: 1.9121 - accuracy: 0.5473\n",
      "Epoch 2/5\n",
      "56/56 [==============================] - 8s 141ms/step - loss: 1.7462 - accuracy: 0.5852\n",
      "Epoch 3/5\n",
      "56/56 [==============================] - 9s 159ms/step - loss: 1.6924 - accuracy: 0.6016\n",
      "Epoch 4/5\n",
      "56/56 [==============================] - 9s 154ms/step - loss: 1.6582 - accuracy: 0.6061\n",
      "Epoch 5/5\n",
      "56/56 [==============================] - 9s 158ms/step - loss: 1.6346 - accuracy: 0.6089\n",
      "trajectory_name:  v3_juvenile_apple_angel-7_105048-106450\n"
     ]
    },
    {
     "name": "stderr",
     "output_type": "stream",
     "text": [
      "100%|██████████| 1379/1379 [00:00<00:00, 7660.99it/s]"
     ]
    },
    {
     "name": "stdout",
     "output_type": "stream",
     "text": [
      "len(all_obs):  1379\n",
      "\n",
      "episode_size:  1379\n",
      "batch_size:  1379\r\n"
     ]
    },
    {
     "name": "stderr",
     "output_type": "stream",
     "text": [
      "\n"
     ]
    },
    {
     "name": "stdout",
     "output_type": "stream",
     "text": [
      "Epoch 1/5\n",
      "44/44 [==============================] - 7s 153ms/step - loss: 1.9054 - accuracy: 0.4851\n",
      "Epoch 2/5\n",
      "44/44 [==============================] - 6s 141ms/step - loss: 1.7619 - accuracy: 0.4866\n",
      "Epoch 3/5\n",
      "44/44 [==============================] - 7s 138ms/step - loss: 1.6754 - accuracy: 0.5018\n",
      "Epoch 4/5\n",
      "44/44 [==============================] - 6s 140ms/step - loss: 1.6218 - accuracy: 0.5315\n",
      "Epoch 5/5\n",
      "44/44 [==============================] - 6s 143ms/step - loss: 1.5903 - accuracy: 0.5439\n",
      "trajectory_name:  v3_ready_wasabi_orc-9_4623-7128\n"
     ]
    },
    {
     "name": "stderr",
     "output_type": "stream",
     "text": [
      "100%|██████████| 2457/2457 [00:00<00:00, 9751.67it/s] \n"
     ]
    },
    {
     "name": "stdout",
     "output_type": "stream",
     "text": [
      "len(all_obs):  2457\n",
      "\n",
      "episode_size:  2457\n",
      "batch_size:  2457\n",
      "Epoch 1/5\n",
      "77/77 [==============================] - 13s 164ms/step - loss: 2.2728 - accuracy: 0.3761\n",
      "Epoch 2/5\n",
      "77/77 [==============================] - 11s 149ms/step - loss: 1.8689 - accuracy: 0.4151\n",
      "Epoch 3/5\n",
      "77/77 [==============================] - 11s 142ms/step - loss: 1.7096 - accuracy: 0.4998\n",
      "Epoch 4/5\n",
      "77/77 [==============================] - 11s 141ms/step - loss: 1.6631 - accuracy: 0.5226\n",
      "Epoch 5/5\n",
      "77/77 [==============================] - 11s 137ms/step - loss: 1.6459 - accuracy: 0.5173\n",
      "trajectory_name:  v3_agonizing_kale_tree_nymph-4_34066-35739\n"
     ]
    },
    {
     "name": "stderr",
     "output_type": "stream",
     "text": [
      "100%|██████████| 1635/1635 [00:00<00:00, 14222.05it/s]\n"
     ]
    },
    {
     "name": "stdout",
     "output_type": "stream",
     "text": [
      "len(all_obs):  1635\n",
      "\n",
      "episode_size:  1635\n",
      "batch_size:  1635\n",
      "Epoch 1/5\n",
      "52/52 [==============================] - 7s 138ms/step - loss: 2.0373 - accuracy: 0.5070\n",
      "Epoch 2/5\n",
      "52/52 [==============================] - 7s 131ms/step - loss: 1.9460 - accuracy: 0.5431\n",
      "Epoch 3/5\n",
      "52/52 [==============================] - 7s 126ms/step - loss: 1.9100 - accuracy: 0.5541\n",
      "Epoch 4/5\n",
      "52/52 [==============================] - 7s 136ms/step - loss: 1.8833 - accuracy: 0.5560\n",
      "Epoch 5/5\n",
      "52/52 [==============================] - 7s 136ms/step - loss: 1.8650 - accuracy: 0.5590\n",
      "trajectory_name:  v3_content_squash_angel-3_14447-16044\n"
     ]
    },
    {
     "name": "stderr",
     "output_type": "stream",
     "text": [
      "100%|██████████| 1568/1568 [00:00<00:00, 12057.57it/s]\n"
     ]
    },
    {
     "name": "stdout",
     "output_type": "stream",
     "text": [
      "len(all_obs):  1568\n",
      "\n",
      "episode_size:  1568\n",
      "batch_size:  1568\n",
      "Epoch 1/5\n",
      "49/49 [==============================] - 7s 135ms/step - loss: 1.9019 - accuracy: 0.5319\n",
      "Epoch 2/5\n",
      "49/49 [==============================] - 6s 128ms/step - loss: 1.8633 - accuracy: 0.5338\n",
      "Epoch 3/5\n",
      "49/49 [==============================] - 6s 131ms/step - loss: 1.8373 - accuracy: 0.5395\n",
      "Epoch 4/5\n",
      "49/49 [==============================] - 6s 130ms/step - loss: 1.8257 - accuracy: 0.5434\n",
      "Epoch 5/5\n",
      "49/49 [==============================] - 7s 134ms/step - loss: 1.8092 - accuracy: 0.5389\n",
      "trajectory_name:  v3_homely_string_bean_djinn-10_514-2235\n"
     ]
    },
    {
     "name": "stderr",
     "output_type": "stream",
     "text": [
      "100%|██████████| 1680/1680 [00:00<00:00, 5957.47it/s]\n"
     ]
    },
    {
     "name": "stdout",
     "output_type": "stream",
     "text": [
      "len(all_obs):  1680\n",
      "\n",
      "episode_size:  1680\n",
      "batch_size:  1680\n",
      "Epoch 1/5\n",
      "53/53 [==============================] - 8s 143ms/step - loss: 1.8506 - accuracy: 0.5524\n",
      "Epoch 2/5\n",
      "53/53 [==============================] - 7s 125ms/step - loss: 1.8204 - accuracy: 0.5577\n",
      "Epoch 3/5\n",
      "53/53 [==============================] - 7s 131ms/step - loss: 1.8065 - accuracy: 0.5583\n",
      "Epoch 4/5\n",
      "53/53 [==============================] - 9s 173ms/step - loss: 1.7917 - accuracy: 0.5607\n",
      "Epoch 5/5\n",
      "53/53 [==============================] - 7s 133ms/step - loss: 1.7829 - accuracy: 0.5548\n",
      "trajectory_name:  v3_absolute_grape_changeling-15_8154-10619\n"
     ]
    },
    {
     "name": "stderr",
     "output_type": "stream",
     "text": [
      "100%|██████████| 2441/2441 [00:00<00:00, 9426.29it/s]\n"
     ]
    },
    {
     "name": "stdout",
     "output_type": "stream",
     "text": [
      "len(all_obs):  2441\n",
      "\n",
      "episode_size:  2441\n",
      "batch_size:  2441\n",
      "Epoch 1/5\n",
      "77/77 [==============================] - 10s 136ms/step - loss: 2.0592 - accuracy: 0.5305\n",
      "Epoch 2/5\n",
      "77/77 [==============================] - 11s 141ms/step - loss: 1.9705 - accuracy: 0.5358\n",
      "Epoch 3/5\n",
      "77/77 [==============================] - 11s 140ms/step - loss: 1.9329 - accuracy: 0.5330\n",
      "Epoch 4/5\n",
      "77/77 [==============================] - 10s 129ms/step - loss: 1.9095 - accuracy: 0.5342\n",
      "Epoch 5/5\n",
      "77/77 [==============================] - 10s 136ms/step - loss: 1.8980 - accuracy: 0.5313\n",
      "trajectory_name:  v3_conscious_tangerine_rain_bird-41_45649-48563\n"
     ]
    },
    {
     "name": "stderr",
     "output_type": "stream",
     "text": [
      "100%|██████████| 2851/2851 [00:00<00:00, 12501.92it/s]\n"
     ]
    },
    {
     "name": "stdout",
     "output_type": "stream",
     "text": [
      "len(all_obs):  2851\n",
      "\n",
      "episode_size:  2851\n",
      "batch_size:  2851\n",
      "Epoch 1/5\n",
      "90/90 [==============================] - 12s 132ms/step - loss: 2.1395 - accuracy: 0.4830\n",
      "Epoch 2/5\n",
      "90/90 [==============================] - 12s 129ms/step - loss: 2.0782 - accuracy: 0.4802\n",
      "Epoch 3/5\n",
      "90/90 [==============================] - 11s 126ms/step - loss: 2.0350 - accuracy: 0.4886\n",
      "Epoch 4/5\n",
      "90/90 [==============================] - 12s 133ms/step - loss: 2.0127 - accuracy: 0.4925\n",
      "Epoch 5/5\n",
      "90/90 [==============================] - 12s 131ms/step - loss: 1.9987 - accuracy: 0.4914\n",
      "trajectory_name:  v3_absolute_grape_changeling-16_2277-4441\n"
     ]
    },
    {
     "name": "stderr",
     "output_type": "stream",
     "text": [
      "100%|██████████| 2131/2131 [00:00<00:00, 13157.58it/s]\n"
     ]
    },
    {
     "name": "stdout",
     "output_type": "stream",
     "text": [
      "len(all_obs):  2131\n",
      "\n",
      "episode_size:  2131\n",
      "batch_size:  2131\n",
      "Epoch 1/5\n",
      "67/67 [==============================] - 8s 126ms/step - loss: 1.9825 - accuracy: 0.5354\n",
      "Epoch 2/5\n",
      "67/67 [==============================] - 8s 126ms/step - loss: 1.9524 - accuracy: 0.5364\n",
      "Epoch 3/5\n",
      "67/67 [==============================] - 8s 124ms/step - loss: 1.9351 - accuracy: 0.5331\n",
      "Epoch 4/5\n",
      "67/67 [==============================] - 9s 131ms/step - loss: 1.9209 - accuracy: 0.5317\n",
      "Epoch 5/5\n",
      "67/67 [==============================] - 8s 125ms/step - loss: 1.9027 - accuracy: 0.5392\n",
      "trajectory_name:  v3_juvenile_apple_angel-7_108223-109900\n"
     ]
    },
    {
     "name": "stderr",
     "output_type": "stream",
     "text": [
      "100%|██████████| 1639/1639 [00:00<00:00, 10926.50it/s]\n"
     ]
    },
    {
     "name": "stdout",
     "output_type": "stream",
     "text": [
      "len(all_obs):  1639\n",
      "\n",
      "episode_size:  1639\n",
      "batch_size:  1639\n",
      "Epoch 1/5\n",
      "52/52 [==============================] - 7s 131ms/step - loss: 2.3007 - accuracy: 0.3929\n",
      "Epoch 2/5\n",
      "52/52 [==============================] - 7s 129ms/step - loss: 2.0028 - accuracy: 0.4070\n",
      "Epoch 3/5\n",
      "52/52 [==============================] - 7s 132ms/step - loss: 1.8789 - accuracy: 0.4222\n",
      "Epoch 4/5\n",
      "52/52 [==============================] - 7s 129ms/step - loss: 1.8210 - accuracy: 0.4399\n",
      "Epoch 5/5\n",
      "52/52 [==============================] - 7s 133ms/step - loss: 1.7855 - accuracy: 0.4606\n",
      "trajectory_name:  v3_hideous_breadfruit_golum-6_17318-18840\n"
     ]
    },
    {
     "name": "stderr",
     "output_type": "stream",
     "text": [
      "100%|██████████| 1494/1494 [00:00<00:00, 12553.90it/s]"
     ]
    },
    {
     "name": "stdout",
     "output_type": "stream",
     "text": [
      "len(all_obs):  1494\n",
      "\n",
      "episode_size:  1494\n",
      "batch_size:  1494\r\n"
     ]
    },
    {
     "name": "stderr",
     "output_type": "stream",
     "text": [
      "\n"
     ]
    },
    {
     "name": "stdout",
     "output_type": "stream",
     "text": [
      "Epoch 1/5\n",
      "47/47 [==============================] - 6s 125ms/step - loss: 2.0233 - accuracy: 0.4779\n",
      "Epoch 2/5\n",
      "47/47 [==============================] - 6s 128ms/step - loss: 1.9119 - accuracy: 0.4920\n",
      "Epoch 3/5\n",
      "47/47 [==============================] - 6s 132ms/step - loss: 1.8594 - accuracy: 0.5013\n",
      "Epoch 4/5\n",
      "47/47 [==============================] - 6s 124ms/step - loss: 1.8196 - accuracy: 0.5107\n",
      "Epoch 5/5\n",
      "47/47 [==============================] - 6s 130ms/step - loss: 1.7942 - accuracy: 0.5040\n",
      "trajectory_name:  v3_content_squash_angel-3_17733-19639\n"
     ]
    },
    {
     "name": "stderr",
     "output_type": "stream",
     "text": [
      "100%|██████████| 1872/1872 [00:00<00:00, 11628.40it/s]\n"
     ]
    },
    {
     "name": "stdout",
     "output_type": "stream",
     "text": [
      "len(all_obs):  1872\n",
      "\n",
      "episode_size:  1872\n",
      "batch_size:  1872\n",
      "Epoch 1/5\n",
      "59/59 [==============================] - 8s 131ms/step - loss: 2.0180 - accuracy: 0.4824\n",
      "Epoch 2/5\n",
      "59/59 [==============================] - 8s 131ms/step - loss: 1.9883 - accuracy: 0.4909\n",
      "Epoch 3/5\n",
      "59/59 [==============================] - 8s 129ms/step - loss: 1.9662 - accuracy: 0.4920\n",
      "Epoch 4/5\n",
      "59/59 [==============================] - 8s 136ms/step - loss: 1.9549 - accuracy: 0.4893\n",
      "Epoch 5/5\n",
      "59/59 [==============================] - 8s 133ms/step - loss: 1.9485 - accuracy: 0.4931\n",
      "trajectory_name:  v3_key_nectarine_spirit-2_9860-12074\n"
     ]
    },
    {
     "name": "stderr",
     "output_type": "stream",
     "text": [
      "100%|██████████| 2144/2144 [00:00<00:00, 12044.96it/s]"
     ]
    },
    {
     "name": "stdout",
     "output_type": "stream",
     "text": [
      "len(all_obs):  2144\n",
      "\n",
      "episode_size:  2144\n",
      "batch_size:  2144\r\n"
     ]
    },
    {
     "name": "stderr",
     "output_type": "stream",
     "text": [
      "\n"
     ]
    },
    {
     "name": "stdout",
     "output_type": "stream",
     "text": [
      "Epoch 1/5\n",
      "67/67 [==============================] - 9s 140ms/step - loss: 1.9790 - accuracy: 0.5089\n",
      "Epoch 2/5\n",
      "67/67 [==============================] - 9s 135ms/step - loss: 1.8882 - accuracy: 0.5131\n",
      "Epoch 3/5\n",
      "67/67 [==============================] - 9s 140ms/step - loss: 1.8287 - accuracy: 0.5201\n",
      "Epoch 4/5\n",
      "67/67 [==============================] - 9s 133ms/step - loss: 1.7994 - accuracy: 0.5215\n",
      "Epoch 5/5\n",
      "67/67 [==============================] - 9s 138ms/step - loss: 1.7841 - accuracy: 0.5201\n",
      "trajectory_name:  v3_sticky_chick_pea_gnome-16_3545-5471\n"
     ]
    },
    {
     "name": "stderr",
     "output_type": "stream",
     "text": [
      "100%|██████████| 1867/1867 [00:00<00:00, 11450.53it/s]\n"
     ]
    },
    {
     "name": "stdout",
     "output_type": "stream",
     "text": [
      "len(all_obs):  1867\n",
      "\n",
      "episode_size:  1867\n",
      "batch_size:  1867\n",
      "Epoch 1/5\n",
      "59/59 [==============================] - 8s 138ms/step - loss: 2.1445 - accuracy: 0.5013\n",
      "Epoch 2/5\n",
      "59/59 [==============================] - 8s 131ms/step - loss: 2.0448 - accuracy: 0.5046\n",
      "Epoch 3/5\n",
      "59/59 [==============================] - 8s 137ms/step - loss: 2.0059 - accuracy: 0.5072\n",
      "Epoch 4/5\n",
      "59/59 [==============================] - 8s 139ms/step - loss: 1.9799 - accuracy: 0.5078\n",
      "Epoch 5/5\n",
      "59/59 [==============================] - 8s 140ms/step - loss: 1.9608 - accuracy: 0.5040\n",
      "trajectory_name:  v3_bogus_guava_djinn-2_300-2170\n"
     ]
    },
    {
     "name": "stderr",
     "output_type": "stream",
     "text": [
      "100%|██████████| 1843/1843 [00:00<00:00, 12205.22it/s]\n"
     ]
    },
    {
     "name": "stdout",
     "output_type": "stream",
     "text": [
      "len(all_obs):  1843\n",
      "\n",
      "episode_size:  1843\n",
      "batch_size:  1843\n",
      "Epoch 1/5\n",
      "58/58 [==============================] - 8s 141ms/step - loss: 1.8574 - accuracy: 0.5458\n",
      "Epoch 2/5\n",
      "58/58 [==============================] - 8s 133ms/step - loss: 1.7953 - accuracy: 0.5659\n",
      "Epoch 3/5\n",
      "58/58 [==============================] - 8s 133ms/step - loss: 1.7696 - accuracy: 0.5659\n",
      "Epoch 4/5\n",
      "58/58 [==============================] - 8s 138ms/step - loss: 1.7523 - accuracy: 0.5735\n",
      "Epoch 5/5\n",
      "58/58 [==============================] - 8s 134ms/step - loss: 1.7351 - accuracy: 0.5741\n",
      "trajectory_name:  v3_unselfish_blood_orange_savage-13_733-3560\n"
     ]
    },
    {
     "name": "stderr",
     "output_type": "stream",
     "text": [
      "100%|██████████| 2794/2794 [00:00<00:00, 10462.18it/s]\n"
     ]
    },
    {
     "name": "stdout",
     "output_type": "stream",
     "text": [
      "len(all_obs):  2794\n",
      "\n",
      "episode_size:  2794\n",
      "batch_size:  2794\n",
      "Epoch 1/5\n",
      "88/88 [==============================] - 12s 139ms/step - loss: 2.4699 - accuracy: 0.3146\n",
      "Epoch 2/5\n",
      "88/88 [==============================] - 13s 144ms/step - loss: 2.1683 - accuracy: 0.4477\n",
      "Epoch 3/5\n",
      "88/88 [==============================] - 13s 144ms/step - loss: 2.0813 - accuracy: 0.4635\n",
      "Epoch 4/5\n",
      "88/88 [==============================] - 12s 140ms/step - loss: 2.0429 - accuracy: 0.4560\n",
      "Epoch 5/5\n",
      "88/88 [==============================] - 12s 141ms/step - loss: 2.0182 - accuracy: 0.4664\n",
      "trajectory_name:  v3_subtle_iceberg_lettuce_nymph-15_4402-6101\n"
     ]
    },
    {
     "name": "stderr",
     "output_type": "stream",
     "text": [
      "100%|██████████| 1677/1677 [00:00<00:00, 16434.49it/s]"
     ]
    },
    {
     "name": "stdout",
     "output_type": "stream",
     "text": [
      "len(all_obs):  1677\n",
      "\n",
      "episode_size:  1677\n",
      "batch_size:  1677\r\n"
     ]
    },
    {
     "name": "stderr",
     "output_type": "stream",
     "text": [
      "\n"
     ]
    },
    {
     "name": "stdout",
     "output_type": "stream",
     "text": [
      "Epoch 1/5\n",
      "53/53 [==============================] - 7s 136ms/step - loss: 1.8619 - accuracy: 0.5242\n",
      "Epoch 2/5\n",
      "53/53 [==============================] - 7s 131ms/step - loss: 1.7588 - accuracy: 0.5438\n",
      "Epoch 3/5\n",
      "53/53 [==============================] - 7s 133ms/step - loss: 1.7209 - accuracy: 0.5480\n",
      "Epoch 4/5\n",
      "53/53 [==============================] - 7s 133ms/step - loss: 1.7050 - accuracy: 0.5534\n",
      "Epoch 5/5\n",
      "53/53 [==============================] - 7s 125ms/step - loss: 1.6927 - accuracy: 0.5504\n",
      "trajectory_name:  v3_excellent_pluot_behemoth-11_56888-59772\n"
     ]
    },
    {
     "name": "stderr",
     "output_type": "stream",
     "text": [
      "100%|██████████| 2853/2853 [00:00<00:00, 8860.20it/s]\n"
     ]
    },
    {
     "name": "stdout",
     "output_type": "stream",
     "text": [
      "len(all_obs):  2853\n",
      "\n",
      "episode_size:  2853\n",
      "batch_size:  2853\n",
      "Epoch 1/5\n",
      "90/90 [==============================] - 13s 139ms/step - loss: 2.3029 - accuracy: 0.4318\n",
      "Epoch 2/5\n",
      "90/90 [==============================] - 12s 138ms/step - loss: 2.1735 - accuracy: 0.4283\n",
      "Epoch 3/5\n",
      "90/90 [==============================] - 12s 137ms/step - loss: 2.1277 - accuracy: 0.4301\n",
      "Epoch 4/5\n",
      "90/90 [==============================] - 13s 141ms/step - loss: 2.1099 - accuracy: 0.4360\n",
      "Epoch 5/5\n",
      "90/90 [==============================] - 12s 135ms/step - loss: 2.0952 - accuracy: 0.4336\n",
      "trajectory_name:  v3_subtle_iceberg_lettuce_nymph-15_2332-4311\n"
     ]
    },
    {
     "name": "stderr",
     "output_type": "stream",
     "text": [
      "100%|██████████| 1949/1949 [00:00<00:00, 13629.52it/s]\n"
     ]
    },
    {
     "name": "stdout",
     "output_type": "stream",
     "text": [
      "len(all_obs):  1949\n",
      "\n",
      "episode_size:  1949\n",
      "batch_size:  1949\n",
      "Epoch 1/5\n",
      "61/61 [==============================] - 9s 141ms/step - loss: 2.0556 - accuracy: 0.4797\n",
      "Epoch 2/5\n",
      "61/61 [==============================] - 9s 140ms/step - loss: 1.9861 - accuracy: 0.4854\n",
      "Epoch 3/5\n",
      "61/61 [==============================] - 8s 135ms/step - loss: 1.9642 - accuracy: 0.4905\n",
      "Epoch 4/5\n",
      "61/61 [==============================] - 9s 142ms/step - loss: 1.9434 - accuracy: 0.4905\n",
      "Epoch 5/5\n",
      "61/61 [==============================] - 8s 133ms/step - loss: 1.9326 - accuracy: 0.4926\n",
      "trajectory_name:  v3_subtle_iceberg_lettuce_nymph-6_13508-15085\n"
     ]
    },
    {
     "name": "stderr",
     "output_type": "stream",
     "text": [
      "100%|██████████| 1535/1535 [00:00<00:00, 12581.18it/s]"
     ]
    },
    {
     "name": "stdout",
     "output_type": "stream",
     "text": [
      "len(all_obs):  1535\n",
      "\n",
      "episode_size:  1535\n",
      "batch_size:  1535\r\n"
     ]
    },
    {
     "name": "stderr",
     "output_type": "stream",
     "text": [
      "\n"
     ]
    },
    {
     "name": "stdout",
     "output_type": "stream",
     "text": [
      "Epoch 1/5\n",
      "48/48 [==============================] - 7s 136ms/step - loss: 1.6364 - accuracy: 0.5850\n",
      "Epoch 2/5\n",
      "48/48 [==============================] - 6s 129ms/step - loss: 1.5934 - accuracy: 0.5876\n",
      "Epoch 3/5\n",
      "48/48 [==============================] - 6s 127ms/step - loss: 1.5834 - accuracy: 0.5870\n",
      "Epoch 4/5\n",
      "48/48 [==============================] - 6s 129ms/step - loss: 1.5742 - accuracy: 0.5850\n",
      "Epoch 5/5\n",
      "48/48 [==============================] - 6s 125ms/step - loss: 1.5593 - accuracy: 0.5870\n",
      "trajectory_name:  v3_virtuous_mustard_greens_raven_spirit-19_3733-7165\n"
     ]
    },
    {
     "name": "stderr",
     "output_type": "stream",
     "text": [
      "100%|██████████| 3396/3396 [00:00<00:00, 10780.81it/s]\n"
     ]
    },
    {
     "name": "stdout",
     "output_type": "stream",
     "text": [
      "len(all_obs):  3396\n",
      "\n",
      "episode_size:  3396\n",
      "batch_size:  3396\n",
      "Epoch 1/5\n",
      "107/107 [==============================] - 17s 154ms/step - loss: 1.7607 - accuracy: 0.4971\n",
      "Epoch 2/5\n",
      "107/107 [==============================] - 15s 138ms/step - loss: 1.3574 - accuracy: 0.6349\n",
      "Epoch 3/5\n",
      "107/107 [==============================] - 15s 137ms/step - loss: 1.3086 - accuracy: 0.6402\n",
      "Epoch 4/5\n",
      "107/107 [==============================] - 15s 139ms/step - loss: 1.2840 - accuracy: 0.6469\n",
      "Epoch 5/5\n",
      "107/107 [==============================] - 14s 135ms/step - loss: 1.2675 - accuracy: 0.6584\n",
      "trajectory_name:  v3_absolute_grape_changeling-17_4927-7389\n"
     ]
    },
    {
     "name": "stderr",
     "output_type": "stream",
     "text": [
      "100%|██████████| 2433/2433 [00:00<00:00, 9890.22it/s] \n"
     ]
    },
    {
     "name": "stdout",
     "output_type": "stream",
     "text": [
      "len(all_obs):  2433\n",
      "\n",
      "episode_size:  2433\n",
      "batch_size:  2433\n",
      "Epoch 1/5\n",
      "77/77 [==============================] - 11s 137ms/step - loss: 2.3110 - accuracy: 0.4053\n",
      "Epoch 2/5\n",
      "77/77 [==============================] - 10s 129ms/step - loss: 2.1728 - accuracy: 0.4275\n",
      "Epoch 3/5\n",
      "77/77 [==============================] - 10s 132ms/step - loss: 2.1274 - accuracy: 0.4439\n",
      "Epoch 4/5\n",
      "77/77 [==============================] - 10s 131ms/step - loss: 2.1012 - accuracy: 0.4455\n",
      "Epoch 5/5\n",
      "77/77 [==============================] - 10s 127ms/step - loss: 2.0779 - accuracy: 0.4550\n",
      "trajectory_name:  v3_rigid_mustard_greens_monster-25_71932-73486\n"
     ]
    },
    {
     "name": "stderr",
     "output_type": "stream",
     "text": [
      "100%|██████████| 1519/1519 [00:00<00:00, 12873.32it/s]"
     ]
    },
    {
     "name": "stdout",
     "output_type": "stream",
     "text": [
      "len(all_obs):  1519\n",
      "\n",
      "episode_size:  1519\n",
      "batch_size:  1519\r\n"
     ]
    },
    {
     "name": "stderr",
     "output_type": "stream",
     "text": [
      "\n"
     ]
    },
    {
     "name": "stdout",
     "output_type": "stream",
     "text": [
      "Epoch 1/5\n",
      "48/48 [==============================] - 7s 137ms/step - loss: 1.6207 - accuracy: 0.6024\n",
      "Epoch 2/5\n",
      "48/48 [==============================] - 6s 131ms/step - loss: 1.5698 - accuracy: 0.6169\n",
      "Epoch 3/5\n",
      "48/48 [==============================] - 6s 124ms/step - loss: 1.5492 - accuracy: 0.6182\n",
      "Epoch 4/5\n",
      "48/48 [==============================] - 7s 136ms/step - loss: 1.5323 - accuracy: 0.6287\n",
      "Epoch 5/5\n",
      "48/48 [==============================] - 6s 125ms/step - loss: 1.5208 - accuracy: 0.6208\n",
      "trajectory_name:  v3_subtle_iceberg_lettuce_nymph-15_2332-4311\n"
     ]
    },
    {
     "name": "stderr",
     "output_type": "stream",
     "text": [
      "100%|██████████| 1949/1949 [00:00<00:00, 11880.64it/s]\n"
     ]
    },
    {
     "name": "stdout",
     "output_type": "stream",
     "text": [
      "len(all_obs):  1949\n",
      "\n",
      "episode_size:  1949\n",
      "batch_size:  1949\n",
      "Epoch 1/5\n",
      "61/61 [==============================] - 8s 138ms/step - loss: 2.0295 - accuracy: 0.4936\n",
      "Epoch 2/5\n",
      "61/61 [==============================] - 8s 130ms/step - loss: 1.9381 - accuracy: 0.4915\n",
      "Epoch 3/5\n",
      "61/61 [==============================] - 8s 132ms/step - loss: 1.9221 - accuracy: 0.4951\n",
      "Epoch 4/5\n",
      "61/61 [==============================] - 8s 132ms/step - loss: 1.9077 - accuracy: 0.4951\n",
      "Epoch 5/5\n",
      "61/61 [==============================] - 8s 136ms/step - loss: 1.8960 - accuracy: 0.4992\n",
      "trajectory_name:  v3_svelte_cherry_devil-12_621-2205\n"
     ]
    },
    {
     "name": "stderr",
     "output_type": "stream",
     "text": [
      "100%|██████████| 1565/1565 [00:00<00:00, 13850.01it/s]"
     ]
    },
    {
     "name": "stdout",
     "output_type": "stream",
     "text": [
      "len(all_obs):  1565\n",
      "\n",
      "episode_size:  1565\n",
      "batch_size:  1565\r\n"
     ]
    },
    {
     "name": "stderr",
     "output_type": "stream",
     "text": [
      "\n"
     ]
    },
    {
     "name": "stdout",
     "output_type": "stream",
     "text": [
      "Epoch 1/5\n",
      "49/49 [==============================] - 6s 127ms/step - loss: 1.9210 - accuracy: 0.5112\n",
      "Epoch 2/5\n",
      "49/49 [==============================] - 6s 133ms/step - loss: 1.8594 - accuracy: 0.5246\n",
      "Epoch 3/5\n",
      "49/49 [==============================] - 6s 127ms/step - loss: 1.8383 - accuracy: 0.5220\n",
      "Epoch 4/5\n",
      "49/49 [==============================] - 6s 128ms/step - loss: 1.8224 - accuracy: 0.5310\n",
      "Epoch 5/5\n",
      "49/49 [==============================] - 7s 135ms/step - loss: 1.8076 - accuracy: 0.5291\n"
     ]
    }
   ],
   "source": [
    "train_loss=[]\n",
    "train_acc=[]\n",
    "# Start training the model.\n",
    "for training_episode in range(134,200):\n",
    "    \n",
    "    dataset = tf.data.Dataset.range(1).interleave(TreeTrajectoryDataset, num_parallel_calls=tf.data.AUTOTUNE).batch(1).prefetch(tf.data.AUTOTUNE)\n",
    "    \n",
    "    for batch in dataset:\n",
    "        episode_size = batch[0].shape[1] #only 1 batch per video\n",
    "        print(\"episode_size: \", episode_size) #number of images in the batch/video\n",
    "\n",
    "        replay_obs_list = batch[0][0] #all images in the single batch/video\n",
    "        replay_act_list = batch[1][0] #all actions per image in the single batch/video\n",
    "\n",
    "        replay_obs_array = tf.concat(replay_obs_list, 0) #just to convert format to a tf.Tensor \n",
    "        replay_act_array = tf.concat(replay_act_list, 0) #https://www.tensorflow.org/api_docs/python/tf/concat\n",
    "\n",
    "        batch_size = replay_obs_array.shape[0]\n",
    "        tf.print(\"batch_size: \", batch_size)\n",
    "            \n",
    "        replay_act_array_onehot = tf.one_hot(replay_act_array, num_actions)\n",
    "        replay_act_array_onehot = tf.reshape(replay_act_array_onehot, (batch_size, num_actions))\n",
    "\n",
    "    \n",
    "    convlstm_model_training_history = convlstm_model.fit(x = replay_obs_array, y = replay_act_array_onehot, epochs = 5)\n",
    "    train_loss.append(convlstm_model_training_history.history['loss'])\n",
    "    train_acc.append(convlstm_model_training_history.history['accuracy']) # if applicable\n",
    "    convlstm_model.save_weights(workspace_path + '/convlstm_model/tree_supervised_model_' + str(training_episode))"
   ]
  },
  {
   "cell_type": "code",
   "execution_count": 22,
   "id": "8e54fea2",
   "metadata": {},
   "outputs": [
    {
     "data": {
      "text/plain": [
       "{'loss': [1.921006441116333,\n",
       "  1.8593957424163818,\n",
       "  1.8383067846298218,\n",
       "  1.8223662376403809,\n",
       "  1.8075791597366333],\n",
       " 'accuracy': [0.5111821293830872,\n",
       "  0.524600625038147,\n",
       "  0.5220447182655334,\n",
       "  0.5309904217720032,\n",
       "  0.5290734767913818]}"
      ]
     },
     "execution_count": 22,
     "metadata": {},
     "output_type": "execute_result"
    }
   ],
   "source": [
    "convlstm_model_training_history.history"
   ]
  },
  {
   "cell_type": "code",
   "execution_count": null,
   "id": "585ffb11",
   "metadata": {},
   "outputs": [],
   "source": [
    "# if arguments.pretrained_model != None:\n",
    "#     print(\"Load Pretrained Model\")\n",
    "#     model.load_weights(\"model/\" + arguments.pretrained_model)"
   ]
  },
  {
   "cell_type": "code",
   "execution_count": 24,
   "id": "76c579c1",
   "metadata": {},
   "outputs": [
    {
     "data": {
      "text/plain": [
       "[<matplotlib.lines.Line2D at 0x19f731bba30>,\n",
       " <matplotlib.lines.Line2D at 0x19f731bbc70>,\n",
       " <matplotlib.lines.Line2D at 0x19f731bbb50>,\n",
       " <matplotlib.lines.Line2D at 0x19f731bb3d0>,\n",
       " <matplotlib.lines.Line2D at 0x19e003e0910>]"
      ]
     },
     "execution_count": 24,
     "metadata": {},
     "output_type": "execute_result"
    },
    {
     "data": {
      "image/png": "[encoded data removed]",
      "text/plain": [
       "<Figure size 432x288 with 1 Axes>"
      ]
     },
     "metadata": {
      "needs_background": "light"
     },
     "output_type": "display_data"
    }
   ],
   "source": [
    "import matplotlib.pyplot as plt\n",
    "# print(train_loss)\n",
    "x = np.arange(0, len(train_loss))\n",
    "plt.plot(x, train_loss)"
   ]
  },
  {
   "cell_type": "code",
   "execution_count": 27,
   "id": "c1fb48f0",
   "metadata": {},
   "outputs": [
    {
     "data": {
      "text/plain": [
       "[<matplotlib.lines.Line2D at 0x19f77bc1b50>,\n",
       " <matplotlib.lines.Line2D at 0x19f77bc1970>,\n",
       " <matplotlib.lines.Line2D at 0x19f77bc1a60>,\n",
       " <matplotlib.lines.Line2D at 0x19f77bc1a00>,\n",
       " <matplotlib.lines.Line2D at 0x19f77bc1370>]"
      ]
     },
     "execution_count": 27,
     "metadata": {},
     "output_type": "execute_result"
    },
    {
     "data": {
      "image/png": "[encoded data removed]",
      "text/plain": [
       "<Figure size 432x288 with 1 Axes>"
      ]
     },
     "metadata": {
      "needs_background": "light"
     },
     "output_type": "display_data"
    }
   ],
   "source": [
    "# print(train_acc)\n",
    "x = np.arange(0, len(train_acc))\n",
    "plt.plot(x, train_acc)"
   ]
  },
  {
   "cell_type": "code",
   "execution_count": null,
   "id": "4759d92a",
   "metadata": {},
   "outputs": [],
   "source": []
  },
  {
   "cell_type": "code",
   "execution_count": null,
   "id": "a1ed70d1",
   "metadata": {},
   "outputs": [],
   "source": []
  },
  {
   "cell_type": "code",
   "execution_count": null,
   "id": "b134c605",
   "metadata": {},
   "outputs": [],
   "source": []
  },
  {
   "cell_type": "code",
   "execution_count": null,
   "id": "e9c16b4c",
   "metadata": {},
   "outputs": [],
   "source": []
  },
  {
   "cell_type": "code",
   "execution_count": null,
   "id": "f49061fb",
   "metadata": {},
   "outputs": [],
   "source": [
    "predict_example = convlstm_model.predict(tf.expand_dims(replay_obs_array[2657,:,:,:], 0))"
   ]
  },
  {
   "cell_type": "code",
   "execution_count": null,
   "id": "b7969947",
   "metadata": {},
   "outputs": [],
   "source": [
    "predict_example.shape #PREDICTION"
   ]
  },
  {
   "cell_type": "code",
   "execution_count": null,
   "id": "4be08fa6",
   "metadata": {},
   "outputs": [],
   "source": [
    "tf.argmax(predict_example[0]) #PREDICTION"
   ]
  },
  {
   "cell_type": "code",
   "execution_count": null,
   "id": "93d151a8",
   "metadata": {},
   "outputs": [],
   "source": [
    "predict_example_onehot = tf.one_hot(tf.argmax(predict_example[0]), depth=115) #PREDICTION"
   ]
  },
  {
   "cell_type": "code",
   "execution_count": null,
   "id": "b6b6af40",
   "metadata": {},
   "outputs": [],
   "source": [
    "predict_example_onehot #PREDICTION"
   ]
  },
  {
   "cell_type": "code",
   "execution_count": null,
   "id": "e5bf4be5",
   "metadata": {},
   "outputs": [],
   "source": [
    "replay_act_array_onehot[2465] #ACTUAL"
   ]
  },
  {
   "cell_type": "code",
   "execution_count": null,
   "id": "78e8340d",
   "metadata": {},
   "outputs": [],
   "source": [
    "tf.argmax(replay_act_array_onehot[2657]) #ACTUAL"
   ]
  },
  {
   "cell_type": "markdown",
   "id": "fdf1e9df",
   "metadata": {},
   "source": [
    "https://www.tensorflow.org/guide/keras/transfer_learning"
   ]
  },
  {
   "attachments": {
    "image-2.png": {
     "image/png": "[encoded data removed]"
    },
    "image.png": {
     "image/png": "[encoded data removed]"
    }
   },
   "cell_type": "markdown",
   "id": "62d797f6",
   "metadata": {},
   "source": [
    "![image-2.png](attachment:image-2.png)\n",
    "\n",
    "![image.png](attachment:image.png)\n",
    "\n",
    "https://github.com/keras-team/keras/issues/4446"
   ]
  },
  {
   "cell_type": "markdown",
   "id": "7c939bfe",
   "metadata": {},
   "source": [
    "https://www.tensorflow.org/guide/keras/transfer_learning"
   ]
  }
 ],
 "metadata": {
  "kernelspec": {
   "display_name": "Python 3 (ipykernel)",
   "language": "python",
   "name": "python3"
  },
  "language_info": {
   "codemirror_mode": {
    "name": "ipython",
    "version": 3
   },
   "file_extension": ".py",
   "mimetype": "text/x-python",
   "name": "python",
   "nbconvert_exporter": "python",
   "pygments_lexer": "ipython3",
   "version": "3.9.12"
  }
 },
 "nbformat": 4,
 "nbformat_minor": 5
}
